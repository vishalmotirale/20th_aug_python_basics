{
 "cells": [
  {
   "cell_type": "markdown",
   "id": "61dd42b7",
   "metadata": {},
   "source": [
    "## String Based Problem"
   ]
  },
  {
   "cell_type": "code",
   "execution_count": 80,
   "id": "2ed04770",
   "metadata": {},
   "outputs": [],
   "source": [
    "s1= \"I am data scientist\"\n",
    "\n",
    "rev_s1 = s1[::-1]"
   ]
  },
  {
   "cell_type": "code",
   "execution_count": 15,
   "id": "545d4e09",
   "metadata": {},
   "outputs": [
    {
     "name": "stdout",
     "output_type": "stream",
     "text": [
      "tsitneics atad ma I\n"
     ]
    }
   ],
   "source": [
    "print(rev_s1)"
   ]
  },
  {
   "cell_type": "code",
   "execution_count": 16,
   "id": "e9e93af7",
   "metadata": {},
   "outputs": [
    {
     "name": "stdout",
     "output_type": "stream",
     "text": [
      "yes\n"
     ]
    }
   ],
   "source": [
    "def palindrome(s):\n",
    "    return s == s[::-1]\n",
    "s = 'level'\n",
    "ans = palindrome(s)\n",
    "\n",
    "if ans:\n",
    "    print(\"yes\")\n",
    "else:\n",
    "    print(\"No\")"
   ]
  },
  {
   "cell_type": "code",
   "execution_count": 17,
   "id": "d1055d0f",
   "metadata": {},
   "outputs": [
    {
     "data": {
      "text/plain": [
       "'I AM DATA SCIENTIST'"
      ]
     },
     "execution_count": 17,
     "metadata": {},
     "output_type": "execute_result"
    }
   ],
   "source": [
    "s1.upper()"
   ]
  },
  {
   "cell_type": "code",
   "execution_count": 18,
   "id": "e1b2e73f",
   "metadata": {},
   "outputs": [
    {
     "data": {
      "text/plain": [
       "'i am data scientist'"
      ]
     },
     "execution_count": 18,
     "metadata": {},
     "output_type": "execute_result"
    }
   ],
   "source": [
    "s1.lower()"
   ]
  },
  {
   "cell_type": "code",
   "execution_count": 22,
   "id": "401149d9",
   "metadata": {},
   "outputs": [
    {
     "data": {
      "text/plain": [
       "'I am data scientist'"
      ]
     },
     "execution_count": 22,
     "metadata": {},
     "output_type": "execute_result"
    }
   ],
   "source": [
    "s1"
   ]
  },
  {
   "cell_type": "code",
   "execution_count": 41,
   "id": "a5402ae4",
   "metadata": {},
   "outputs": [
    {
     "name": "stdout",
     "output_type": "stream",
     "text": [
      "Number of vowel: 7\n"
     ]
    }
   ],
   "source": [
    "def vowel(s1):\n",
    "    vowels = \"aeiouAEIOU\"\n",
    "    count = 0\n",
    "    for char in s1:\n",
    "        if char in vowels:\n",
    "            count += 1\n",
    "    return count\n",
    "vowel_count = vowel(s1)\n",
    "\n",
    "print(f\"Number of vowel: {vowel_count}\")"
   ]
  },
  {
   "cell_type": "code",
   "execution_count": 42,
   "id": "58c47756",
   "metadata": {},
   "outputs": [
    {
     "name": "stdout",
     "output_type": "stream",
     "text": [
      "Number of consonant: 9\n"
     ]
    }
   ],
   "source": [
    "def consonant(s1):\n",
    "    vowels = \"aeiouAEIOU\"\n",
    "    count = 0\n",
    "    for char in s1:\n",
    "        if char not in vowels and char.isalpha():\n",
    "            count += 1\n",
    "    return count\n",
    "consonant_count = consonant(s1)\n",
    "\n",
    "print(f\"Number of consonant: {consonant_count}\")"
   ]
  },
  {
   "cell_type": "code",
   "execution_count": 46,
   "id": "a0336031",
   "metadata": {},
   "outputs": [
    {
     "data": {
      "text/plain": [
       "'I am data scientist'"
      ]
     },
     "execution_count": 46,
     "metadata": {},
     "output_type": "execute_result"
    }
   ],
   "source": [
    "s1"
   ]
  },
  {
   "cell_type": "code",
   "execution_count": 47,
   "id": "454f6cf9",
   "metadata": {},
   "outputs": [
    {
     "data": {
      "text/plain": [
       "'Iamdatascientist'"
      ]
     },
     "execution_count": 47,
     "metadata": {},
     "output_type": "execute_result"
    }
   ],
   "source": [
    "s1.replace(\" \",\"\")"
   ]
  },
  {
   "cell_type": "code",
   "execution_count": 59,
   "id": "40525ec8",
   "metadata": {},
   "outputs": [
    {
     "name": "stdout",
     "output_type": "stream",
     "text": [
      "Number of string count:16\n"
     ]
    }
   ],
   "source": [
    "def length(s1):\n",
    "    count= 0 \n",
    "    for char in s1:\n",
    "        if char.isalpha():\n",
    "            count +=1\n",
    "    return count\n",
    "    \n",
    "string_count = length(s1)\n",
    "\n",
    "print(f\"Number of string count:{string_count}\")"
   ]
  },
  {
   "cell_type": "code",
   "execution_count": 14,
   "id": "8b672551",
   "metadata": {},
   "outputs": [
    {
     "data": {
      "text/plain": [
       "'I am data scientist'"
      ]
     },
     "execution_count": 14,
     "metadata": {},
     "output_type": "execute_result"
    }
   ],
   "source": [
    "s1"
   ]
  },
  {
   "cell_type": "code",
   "execution_count": 15,
   "id": "899f91dc",
   "metadata": {},
   "outputs": [
    {
     "name": "stdout",
     "output_type": "stream",
     "text": [
      "string contains spacial word: data\n"
     ]
    }
   ],
   "source": [
    "spacial_word = \"data\"\n",
    "\n",
    "if spacial_word in s1:\n",
    "    print(\"string contains spacial word:\",spacial_word)\n",
    "else :\n",
    "    print(\"string does not contains spacial word\")"
   ]
  },
  {
   "cell_type": "code",
   "execution_count": 18,
   "id": "e8e5e8b6",
   "metadata": {},
   "outputs": [
    {
     "data": {
      "text/plain": [
       "'I am nuero scientist'"
      ]
     },
     "execution_count": 18,
     "metadata": {},
     "output_type": "execute_result"
    }
   ],
   "source": [
    "s1.replace('data','nuero')"
   ]
  },
  {
   "cell_type": "code",
   "execution_count": 20,
   "id": "000ba99a",
   "metadata": {},
   "outputs": [
    {
     "data": {
      "text/plain": [
       "3"
      ]
     },
     "execution_count": 20,
     "metadata": {},
     "output_type": "execute_result"
    }
   ],
   "source": [
    "s1.count('a')"
   ]
  },
  {
   "cell_type": "code",
   "execution_count": 21,
   "id": "a49fc09a",
   "metadata": {},
   "outputs": [
    {
     "data": {
      "text/plain": [
       "2"
      ]
     },
     "execution_count": 21,
     "metadata": {},
     "output_type": "execute_result"
    }
   ],
   "source": [
    "s1.index('a')"
   ]
  },
  {
   "cell_type": "code",
   "execution_count": 25,
   "id": "ce52fe91",
   "metadata": {},
   "outputs": [
    {
     "data": {
      "text/plain": [
       "8"
      ]
     },
     "execution_count": 25,
     "metadata": {},
     "output_type": "execute_result"
    }
   ],
   "source": [
    "s1.rfind('a')"
   ]
  },
  {
   "cell_type": "code",
   "execution_count": 7,
   "id": "9c00e7d4",
   "metadata": {},
   "outputs": [],
   "source": [
    "s=s1.split()"
   ]
  },
  {
   "cell_type": "code",
   "execution_count": 8,
   "id": "2910cd34",
   "metadata": {},
   "outputs": [
    {
     "data": {
      "text/plain": [
       "['I', 'am', 'data', 'scientist']"
      ]
     },
     "execution_count": 8,
     "metadata": {},
     "output_type": "execute_result"
    }
   ],
   "source": [
    "s"
   ]
  },
  {
   "cell_type": "code",
   "execution_count": 9,
   "id": "79d79d11",
   "metadata": {},
   "outputs": [
    {
     "data": {
      "text/plain": [
       "list"
      ]
     },
     "execution_count": 9,
     "metadata": {},
     "output_type": "execute_result"
    }
   ],
   "source": [
    "type(s)"
   ]
  },
  {
   "cell_type": "code",
   "execution_count": 10,
   "id": "775c5855",
   "metadata": {},
   "outputs": [],
   "source": [
    "s2=' '.join(s)"
   ]
  },
  {
   "cell_type": "code",
   "execution_count": 44,
   "id": "dcf0ad53",
   "metadata": {},
   "outputs": [
    {
     "data": {
      "text/plain": [
       "'I am data scientist'"
      ]
     },
     "execution_count": 44,
     "metadata": {},
     "output_type": "execute_result"
    }
   ],
   "source": [
    "s2"
   ]
  },
  {
   "cell_type": "code",
   "execution_count": 45,
   "id": "407f62d6",
   "metadata": {},
   "outputs": [
    {
     "data": {
      "text/plain": [
       "'I_am_data_scientist'"
      ]
     },
     "execution_count": 45,
     "metadata": {},
     "output_type": "execute_result"
    }
   ],
   "source": [
    "s2.replace(\" \",\"_\")"
   ]
  },
  {
   "cell_type": "code",
   "execution_count": 46,
   "id": "4625aa38",
   "metadata": {},
   "outputs": [
    {
     "data": {
      "text/plain": [
       "'I am data scientist'"
      ]
     },
     "execution_count": 46,
     "metadata": {},
     "output_type": "execute_result"
    }
   ],
   "source": [
    "s1"
   ]
  },
  {
   "cell_type": "code",
   "execution_count": 57,
   "id": "a83a6245",
   "metadata": {},
   "outputs": [
    {
     "name": "stdout",
     "output_type": "stream",
     "text": [
      "It is start with: I\n"
     ]
    }
   ],
   "source": [
    "word = 'I'\n",
    "if s1.startswith(word):\n",
    "    print(\"It is start with:\",word)\n",
    "else:\n",
    "    print(\"It is not start with\",word)\n",
    "    "
   ]
  },
  {
   "cell_type": "code",
   "execution_count": 17,
   "id": "f20f5b35",
   "metadata": {},
   "outputs": [],
   "source": [
    "s3= 'my name is vishal'"
   ]
  },
  {
   "cell_type": "code",
   "execution_count": 18,
   "id": "8e4f8c25",
   "metadata": {},
   "outputs": [
    {
     "name": "stdout",
     "output_type": "stream",
     "text": [
      "yes\n"
     ]
    }
   ],
   "source": [
    "word1= 'vishal'\n",
    "if s3.endswith(word1):\n",
    "    print('yes')\n",
    "else:\n",
    "    print('no it is not')"
   ]
  },
  {
   "cell_type": "code",
   "execution_count": 22,
   "id": "ae5f843c",
   "metadata": {},
   "outputs": [
    {
     "data": {
      "text/plain": [
       "'My Name Is Vishal'"
      ]
     },
     "execution_count": 22,
     "metadata": {},
     "output_type": "execute_result"
    }
   ],
   "source": [
    "s4=s3.title()\n",
    "s4"
   ]
  },
  {
   "cell_type": "code",
   "execution_count": 74,
   "id": "1e75369c",
   "metadata": {},
   "outputs": [],
   "source": [
    "words = s1.split()\n",
    "longest_word = max(words,key = len)"
   ]
  },
  {
   "cell_type": "code",
   "execution_count": 75,
   "id": "74415934",
   "metadata": {},
   "outputs": [
    {
     "data": {
      "text/plain": [
       "'scientist'"
      ]
     },
     "execution_count": 75,
     "metadata": {},
     "output_type": "execute_result"
    }
   ],
   "source": [
    "longest_word"
   ]
  },
  {
   "cell_type": "code",
   "execution_count": 76,
   "id": "da8bc756",
   "metadata": {},
   "outputs": [
    {
     "data": {
      "text/plain": [
       "'I'"
      ]
     },
     "execution_count": 76,
     "metadata": {},
     "output_type": "execute_result"
    }
   ],
   "source": [
    "shortest_word = min(words , key = len)\n",
    "shortest_word"
   ]
  },
  {
   "cell_type": "code",
   "execution_count": 85,
   "id": "96b703cf",
   "metadata": {},
   "outputs": [
    {
     "data": {
      "text/plain": [
       "'scientist data am I'"
      ]
     },
     "execution_count": 85,
     "metadata": {},
     "output_type": "execute_result"
    }
   ],
   "source": [
    "words = s1.split()\n",
    "rev_word = ' '.join(reversed(words))\n",
    "rev_word"
   ]
  },
  {
   "cell_type": "code",
   "execution_count": 101,
   "id": "229be5cb",
   "metadata": {},
   "outputs": [
    {
     "data": {
      "text/plain": [
       "True"
      ]
     },
     "execution_count": 101,
     "metadata": {},
     "output_type": "execute_result"
    }
   ],
   "source": [
    "v1 = 'jemesbond007'\n",
    "words = v1.isalnum()\n",
    "words"
   ]
  },
  {
   "cell_type": "code",
   "execution_count": 106,
   "id": "fddc8d97",
   "metadata": {},
   "outputs": [
    {
     "data": {
      "text/plain": [
       "'jemesbond007'"
      ]
     },
     "execution_count": 106,
     "metadata": {},
     "output_type": "execute_result"
    }
   ],
   "source": [
    "v1"
   ]
  },
  {
   "cell_type": "code",
   "execution_count": 126,
   "id": "6a77825e",
   "metadata": {},
   "outputs": [
    {
     "name": "stdout",
     "output_type": "stream",
     "text": [
      "digits are: 007\n"
     ]
    }
   ],
   "source": [
    "digit = ''.join(char for char in v1 if char.isdigit())\n",
    "print(\"digits are:\", digit)"
   ]
  },
  {
   "cell_type": "code",
   "execution_count": 127,
   "id": "9559dfa9",
   "metadata": {},
   "outputs": [
    {
     "name": "stdout",
     "output_type": "stream",
     "text": [
      "digits are: jemesbond\n"
     ]
    }
   ],
   "source": [
    "digit = ''.join(char for char in v1 if char.isalpha())\n",
    "print(\"digits are:\", digit)"
   ]
  },
  {
   "cell_type": "code",
   "execution_count": 128,
   "id": "d3ce6882",
   "metadata": {},
   "outputs": [
    {
     "data": {
      "text/plain": [
       "'I am data scientist'"
      ]
     },
     "execution_count": 128,
     "metadata": {},
     "output_type": "execute_result"
    }
   ],
   "source": [
    "s1"
   ]
  },
  {
   "cell_type": "code",
   "execution_count": 129,
   "id": "608c25be",
   "metadata": {},
   "outputs": [],
   "source": [
    "s2 = s1.title()"
   ]
  },
  {
   "cell_type": "code",
   "execution_count": 13,
   "id": "bcbe2910",
   "metadata": {},
   "outputs": [
    {
     "data": {
      "text/plain": [
       "'I am data scientist'"
      ]
     },
     "execution_count": 13,
     "metadata": {},
     "output_type": "execute_result"
    }
   ],
   "source": [
    "s2"
   ]
  },
  {
   "cell_type": "code",
   "execution_count": 146,
   "id": "c643f677",
   "metadata": {},
   "outputs": [
    {
     "name": "stdout",
     "output_type": "stream",
     "text": [
      "uppercase are: IADS\n"
     ]
    }
   ],
   "source": [
    "uppercase = ''.join(char for char in s2 if char.isupper())\n",
    "print(\"uppercase are:\" , uppercase)"
   ]
  },
  {
   "cell_type": "code",
   "execution_count": 144,
   "id": "7de6d4be",
   "metadata": {},
   "outputs": [
    {
     "name": "stdout",
     "output_type": "stream",
     "text": [
      "lowercase are: matacientist\n"
     ]
    }
   ],
   "source": [
    "lowercase = ''.join(char for char in s2 if char.islower())\n",
    "print(\"lowercase are:\" , lowercase)"
   ]
  },
  {
   "cell_type": "code",
   "execution_count": 23,
   "id": "bfd5b4f2",
   "metadata": {},
   "outputs": [
    {
     "data": {
      "text/plain": [
       "'My Name Is Vishal'"
      ]
     },
     "execution_count": 23,
     "metadata": {},
     "output_type": "execute_result"
    }
   ],
   "source": [
    "s4"
   ]
  },
  {
   "cell_type": "code",
   "execution_count": 24,
   "id": "fd77945f",
   "metadata": {},
   "outputs": [
    {
     "data": {
      "text/plain": [
       "'mY nAME iS vISHAL'"
      ]
     },
     "execution_count": 24,
     "metadata": {},
     "output_type": "execute_result"
    }
   ],
   "source": [
    "s4.swapcase()"
   ]
  },
  {
   "cell_type": "code",
   "execution_count": 26,
   "id": "c3ce9610",
   "metadata": {},
   "outputs": [
    {
     "data": {
      "text/plain": [
       "'My Nme Is Vishl'"
      ]
     },
     "execution_count": 26,
     "metadata": {},
     "output_type": "execute_result"
    }
   ],
   "source": [
    "s4.replace('a','')"
   ]
  },
  {
   "cell_type": "code",
   "execution_count": 27,
   "id": "d0892220",
   "metadata": {},
   "outputs": [
    {
     "name": "stdout",
     "output_type": "stream",
     "text": [
      "Collecting validate_email_address\n",
      "  Downloading validate-email-address-1.tar.gz (4.9 kB)\n",
      "  Preparing metadata (setup.py): started\n",
      "  Preparing metadata (setup.py): finished with status 'done'\n",
      "Building wheels for collected packages: validate_email_address\n",
      "  Building wheel for validate_email_address (setup.py): started\n",
      "  Building wheel for validate_email_address (setup.py): finished with status 'done'\n",
      "  Created wheel for validate_email_address: filename=validate_email_address-1-py3-none-any.whl size=5765 sha256=2f8c934cdd87a3cc755f360a8010171d94a1e5cfe28227b14710f1bed745b2ac\n",
      "  Stored in directory: c:\\users\\vishal\\appdata\\local\\pip\\cache\\wheels\\c4\\60\\ae\\b075ad339f93c331f892a38c746ea60fa1ab98b85bcde6ba94\n",
      "Successfully built validate_email_address\n",
      "Installing collected packages: validate_email_address\n",
      "Successfully installed validate_email_address-1\n",
      "Note: you may need to restart the kernel to use updated packages.\n"
     ]
    }
   ],
   "source": [
    "pip install validate_email_address"
   ]
  },
  {
   "cell_type": "code",
   "execution_count": 6,
   "id": "0ce941ca",
   "metadata": {},
   "outputs": [
    {
     "name": "stdout",
     "output_type": "stream",
     "text": [
      "user@example.com is a valid email address.\n"
     ]
    }
   ],
   "source": [
    "from validate_email_address import validate_email\n",
    "\n",
    "def is_valid_email(email):\n",
    "    return validate_email(email)\n",
    "\n",
    "e1 = \"user@example.com\"\n",
    "if is_valid_email(email_to_check):\n",
    "    print(f\"{e1} is a valid email address.\")\n",
    "else :\n",
    "    print(f\"{e1} is not valid email address.\")"
   ]
  },
  {
   "cell_type": "code",
   "execution_count": 8,
   "id": "bd32634c",
   "metadata": {},
   "outputs": [
    {
     "data": {
      "text/plain": [
       "'user@example.com'"
      ]
     },
     "execution_count": 8,
     "metadata": {},
     "output_type": "execute_result"
    }
   ],
   "source": [
    "e1"
   ]
  },
  {
   "cell_type": "code",
   "execution_count": 13,
   "id": "a7013e20",
   "metadata": {},
   "outputs": [
    {
     "name": "stdout",
     "output_type": "stream",
     "text": [
      "user\n"
     ]
    }
   ],
   "source": [
    "parts = e1.split('@')\n",
    "print(parts[0])"
   ]
  },
  {
   "cell_type": "code",
   "execution_count": 14,
   "id": "1765c2f4",
   "metadata": {},
   "outputs": [
    {
     "name": "stdout",
     "output_type": "stream",
     "text": [
      "example.com\n"
     ]
    }
   ],
   "source": [
    "print(parts[1])"
   ]
  },
  {
   "cell_type": "code",
   "execution_count": 20,
   "id": "9dce44f5",
   "metadata": {},
   "outputs": [
    {
     "data": {
      "text/plain": [
       "'I am data scientist'"
      ]
     },
     "execution_count": 20,
     "metadata": {},
     "output_type": "execute_result"
    }
   ],
   "source": [
    "s5 = \"I   am data   scientist\"\n",
    "words = s5.split()\n",
    "\n",
    "result_st = ' '.join(words)\n",
    "result_st"
   ]
  },
  {
   "cell_type": "code",
   "execution_count": 21,
   "id": "8c996589",
   "metadata": {},
   "outputs": [],
   "source": [
    "from urllib.parse import urlparse"
   ]
  },
  {
   "cell_type": "code",
   "execution_count": 30,
   "id": "98c45d7f",
   "metadata": {},
   "outputs": [
    {
     "name": "stdout",
     "output_type": "stream",
     "text": [
      "https://www.example.com is not a valid URL.\n"
     ]
    }
   ],
   "source": [
    "url = 'https://www.example.com'\n",
    "\n",
    "def is_valid_url(url):\n",
    "    try:\n",
    "        result == urlparse(url)\n",
    "        return all([result.scheme, result.netloc])\n",
    "    except:\n",
    "            return False\n",
    "    \n",
    "if is_valid_url(url):\n",
    "    print(f'{url} is a valid URL.')\n",
    "else:\n",
    "    print(f'{url} is not a valid URL.')"
   ]
  },
  {
   "cell_type": "code",
   "execution_count": 32,
   "id": "54d74422",
   "metadata": {},
   "outputs": [
    {
     "name": "stdout",
     "output_type": "stream",
     "text": [
      "https\n"
     ]
    }
   ],
   "source": [
    "protocol = url.split(':')\n",
    "print(protocol[0])"
   ]
  },
  {
   "cell_type": "code",
   "execution_count": 33,
   "id": "3f2fcb60",
   "metadata": {},
   "outputs": [
    {
     "name": "stdout",
     "output_type": "stream",
     "text": [
      "Character: h, Frequency: 1\n",
      "Character: e, Frequency: 1\n",
      "Character: l, Frequency: 3\n",
      "Character: o, Frequency: 2\n",
      "Character:  , Frequency: 1\n",
      "Character: w, Frequency: 1\n",
      "Character: r, Frequency: 1\n",
      "Character: d, Frequency: 1\n"
     ]
    }
   ],
   "source": [
    "from collections import Counter\n",
    "\n",
    "def character_frequency(input_string):\n",
    "    # Use Counter to count the frequency of each character\n",
    "    frequency_counter = Counter(input_string)\n",
    "\n",
    "    return frequency_counter\n",
    "\n",
    "# Example usage:\n",
    "input_str = 'hello world'\n",
    "\n",
    "char_freq = character_frequency(input_str)\n",
    "\n",
    "# Display the character frequencies\n",
    "for char, freq in char_freq.items():\n",
    "    print(f'Character: {char}, Frequency: {freq}')\n",
    "\n",
    "    "
   ]
  },
  {
   "cell_type": "code",
   "execution_count": 34,
   "id": "5148ecab",
   "metadata": {},
   "outputs": [
    {
     "data": {
      "text/plain": [
       "'I am data scientist'"
      ]
     },
     "execution_count": 34,
     "metadata": {},
     "output_type": "execute_result"
    }
   ],
   "source": [
    "s1"
   ]
  },
  {
   "cell_type": "code",
   "execution_count": 36,
   "id": "02914870",
   "metadata": {},
   "outputs": [],
   "source": [
    "from collections import Counter"
   ]
  },
  {
   "cell_type": "code",
   "execution_count": 39,
   "id": "1f217c70",
   "metadata": {},
   "outputs": [
    {
     "data": {
      "text/plain": [
       "Counter({'I': 1,\n",
       "         ' ': 3,\n",
       "         'a': 3,\n",
       "         'm': 1,\n",
       "         'd': 1,\n",
       "         't': 3,\n",
       "         's': 2,\n",
       "         'c': 1,\n",
       "         'i': 2,\n",
       "         'e': 1,\n",
       "         'n': 1})"
      ]
     },
     "execution_count": 39,
     "metadata": {},
     "output_type": "execute_result"
    }
   ],
   "source": [
    "freq = Counter(s1)\n",
    "freq"
   ]
  },
  {
   "cell_type": "code",
   "execution_count": 50,
   "id": "61c2b229",
   "metadata": {},
   "outputs": [],
   "source": [
    "v = 'hello, my name. is_vishal'\n"
   ]
  },
  {
   "cell_type": "code",
   "execution_count": 53,
   "id": "2bf19347",
   "metadata": {},
   "outputs": [],
   "source": [
    "trans = string.punctuation\n"
   ]
  },
  {
   "cell_type": "code",
   "execution_count": 81,
   "id": "7684302e",
   "metadata": {},
   "outputs": [
    {
     "data": {
      "text/plain": [
       "'I am data scientist'"
      ]
     },
     "execution_count": 81,
     "metadata": {},
     "output_type": "execute_result"
    }
   ],
   "source": [
    "s1"
   ]
  },
  {
   "cell_type": "code",
   "execution_count": 60,
   "id": "41a5c78a",
   "metadata": {},
   "outputs": [],
   "source": [
    "s2 = '123456'"
   ]
  },
  {
   "cell_type": "code",
   "execution_count": 61,
   "id": "952f5f90",
   "metadata": {},
   "outputs": [
    {
     "data": {
      "text/plain": [
       "True"
      ]
     },
     "execution_count": 61,
     "metadata": {},
     "output_type": "execute_result"
    }
   ],
   "source": [
    "s2.isdigit()"
   ]
  },
  {
   "cell_type": "code",
   "execution_count": 66,
   "id": "f2b19fd7",
   "metadata": {},
   "outputs": [
    {
     "data": {
      "text/plain": [
       "True"
      ]
     },
     "execution_count": 66,
     "metadata": {},
     "output_type": "execute_result"
    }
   ],
   "source": [
    "s1 = \"datascientist\"\n",
    "s1.isalpha()"
   ]
  },
  {
   "cell_type": "code",
   "execution_count": 82,
   "id": "274ee35d",
   "metadata": {},
   "outputs": [
    {
     "data": {
      "text/plain": [
       "['I am data scientist']"
      ]
     },
     "execution_count": 82,
     "metadata": {},
     "output_type": "execute_result"
    }
   ],
   "source": [
    "s3 = [s1]\n",
    "s3"
   ]
  },
  {
   "cell_type": "code",
   "execution_count": 83,
   "id": "9ef028e9",
   "metadata": {},
   "outputs": [
    {
     "data": {
      "text/plain": [
       "list"
      ]
     },
     "execution_count": 83,
     "metadata": {},
     "output_type": "execute_result"
    }
   ],
   "source": [
    "type(s3)"
   ]
  },
  {
   "cell_type": "code",
   "execution_count": 85,
   "id": "7b96f9ad",
   "metadata": {},
   "outputs": [
    {
     "name": "stdout",
     "output_type": "stream",
     "text": [
      "it's anagrams\n"
     ]
    }
   ],
   "source": [
    "b1 = 'heart'\n",
    "b2 = 'earth'\n",
    "\n",
    "if sorted(b1) == sorted(b2):\n",
    "    print(\"it's anagrams\")\n",
    "else:\n",
    "    print(\"it's not anagram\")"
   ]
  },
  {
   "cell_type": "code",
   "execution_count": 86,
   "id": "bf9a586f",
   "metadata": {},
   "outputs": [
    {
     "name": "stdout",
     "output_type": "stream",
     "text": [
      "Original text: Hello, World!\n",
      "Encrypted text: Khoor, Zruog!\n"
     ]
    }
   ],
   "source": [
    "def caesar_cipher_encrypt(plaintext, shift):\n",
    "    encrypted_text = \"\"\n",
    "\n",
    "    for char in plaintext:\n",
    "        if char.isalpha():  # Process only alphabetic characters\n",
    "            start = ord('a') if char.islower() else ord('A')\n",
    "            encrypted_char = chr((ord(char) - start + shift) % 26 + start)\n",
    "            encrypted_text += encrypted_char\n",
    "        else:\n",
    "            encrypted_text += char  # Keep non-alphabetic characters unchanged\n",
    "\n",
    "    return encrypted_text\n",
    "\n",
    "# Example usage:\n",
    "plaintext = \"Hello, World!\"\n",
    "shift = 3\n",
    "encrypted_text = caesar_cipher_encrypt(plaintext, shift)\n",
    "\n",
    "print(f'Original text: {plaintext}')\n",
    "print(f'Encrypted text: {encrypted_text}')\n"
   ]
  },
  {
   "cell_type": "code",
   "execution_count": 87,
   "id": "7aab5ef2",
   "metadata": {},
   "outputs": [
    {
     "name": "stdout",
     "output_type": "stream",
     "text": [
      "Encrypted text: Khoor, Zruog!\n",
      "Decrypted text: Hello, World!\n"
     ]
    }
   ],
   "source": [
    "def caesar_cipher_decrypt(encrypted_text, shift):\n",
    "    decrypted_text = \"\"\n",
    "\n",
    "    for char in encrypted_text:\n",
    "        if char.isalpha():  # Process only alphabetic characters\n",
    "            start = ord('a') if char.islower() else ord('A')\n",
    "            decrypted_char = chr((ord(char) - start - shift) % 26 + start)\n",
    "            decrypted_text += decrypted_char\n",
    "        else:\n",
    "            decrypted_text += char  # Keep non-alphabetic characters unchanged\n",
    "\n",
    "    return decrypted_text\n",
    "\n",
    "# Example usage:\n",
    "encrypted_text = \"Khoor, Zruog!\"\n",
    "shift = 3\n",
    "decrypted_text = caesar_cipher_decrypt(encrypted_text, shift)\n",
    "\n",
    "print(f'Encrypted text: {encrypted_text}')\n",
    "print(f'Decrypted text: {decrypted_text}')\n"
   ]
  },
  {
   "cell_type": "code",
   "execution_count": 99,
   "id": "e9f4e0c1",
   "metadata": {},
   "outputs": [
    {
     "data": {
      "text/plain": [
       "Counter({'I': 1,\n",
       "         ' ': 3,\n",
       "         'a': 3,\n",
       "         'm': 1,\n",
       "         'd': 1,\n",
       "         't': 3,\n",
       "         's': 2,\n",
       "         'c': 1,\n",
       "         'i': 2,\n",
       "         'e': 1,\n",
       "         'n': 1})"
      ]
     },
     "execution_count": 99,
     "metadata": {},
     "output_type": "execute_result"
    }
   ],
   "source": [
    "freq"
   ]
  },
  {
   "cell_type": "code",
   "execution_count": 100,
   "id": "f1ccc2cb",
   "metadata": {},
   "outputs": [
    {
     "data": {
      "text/plain": [
       "'t'"
      ]
     },
     "execution_count": 100,
     "metadata": {},
     "output_type": "execute_result"
    }
   ],
   "source": [
    "most_frequnt = max(freq)\n",
    "most_frequnt"
   ]
  },
  {
   "cell_type": "markdown",
   "id": "c438a45b",
   "metadata": {},
   "source": [
    "## List Based Problem"
   ]
  },
  {
   "cell_type": "code",
   "execution_count": 41,
   "id": "6be30ae4",
   "metadata": {},
   "outputs": [
    {
     "data": {
      "text/plain": [
       "[1, 2, 3, 4, 5, 6, 7, 8, 9, 10]"
      ]
     },
     "execution_count": 41,
     "metadata": {},
     "output_type": "execute_result"
    }
   ],
   "source": [
    "l1 = list(range(1,11))\n",
    "l1"
   ]
  },
  {
   "cell_type": "code",
   "execution_count": 25,
   "id": "0bfc8e00",
   "metadata": {},
   "outputs": [
    {
     "name": "stdout",
     "output_type": "stream",
     "text": [
      "length of list: 17\n"
     ]
    }
   ],
   "source": [
    "def length(l1):\n",
    "    count = 0\n",
    "    for _ in l1:\n",
    "        count +=1\n",
    "    return count\n",
    "list_count = length(l1)\n",
    "print(f\"length of list: {list_count}\")"
   ]
  },
  {
   "cell_type": "code",
   "execution_count": 32,
   "id": "edc3f153",
   "metadata": {},
   "outputs": [],
   "source": [
    "l1.append(11)"
   ]
  },
  {
   "cell_type": "code",
   "execution_count": 33,
   "id": "4c7b3c80",
   "metadata": {},
   "outputs": [
    {
     "data": {
      "text/plain": [
       "[1, 2, 3, 4, 5, 6, 7, 8, 9, 10, 11]"
      ]
     },
     "execution_count": 33,
     "metadata": {},
     "output_type": "execute_result"
    }
   ],
   "source": [
    "l1"
   ]
  },
  {
   "cell_type": "code",
   "execution_count": 42,
   "id": "37dafb19",
   "metadata": {},
   "outputs": [],
   "source": [
    "l1.insert(4,4)"
   ]
  },
  {
   "cell_type": "code",
   "execution_count": 43,
   "id": "2b405bb6",
   "metadata": {},
   "outputs": [
    {
     "data": {
      "text/plain": [
       "[1, 2, 3, 4, 4, 5, 6, 7, 8, 9, 10]"
      ]
     },
     "execution_count": 43,
     "metadata": {},
     "output_type": "execute_result"
    }
   ],
   "source": [
    "l1"
   ]
  },
  {
   "cell_type": "code",
   "execution_count": 50,
   "id": "ff8cbfed",
   "metadata": {},
   "outputs": [],
   "source": [
    "l1.remove(1)"
   ]
  },
  {
   "cell_type": "code",
   "execution_count": 51,
   "id": "7b075348",
   "metadata": {},
   "outputs": [
    {
     "data": {
      "text/plain": [
       "[2, 3, 4, 4, 5, 6, 7, 8, 9, 10]"
      ]
     },
     "execution_count": 51,
     "metadata": {},
     "output_type": "execute_result"
    }
   ],
   "source": [
    "l1"
   ]
  },
  {
   "cell_type": "code",
   "execution_count": 56,
   "id": "b1f891ab",
   "metadata": {},
   "outputs": [
    {
     "data": {
      "text/plain": [
       "4"
      ]
     },
     "execution_count": 56,
     "metadata": {},
     "output_type": "execute_result"
    }
   ],
   "source": [
    "l1.pop(1)"
   ]
  },
  {
   "cell_type": "code",
   "execution_count": 60,
   "id": "4623b9a8",
   "metadata": {},
   "outputs": [
    {
     "name": "stdout",
     "output_type": "stream",
     "text": [
      "integer 5 is present in list\n"
     ]
    }
   ],
   "source": [
    "inte = (5)\n",
    "\n",
    "if inte in l1:\n",
    "    print(f\"integer {inte} is present in list\")\n",
    "else:\n",
    "    print(\"integer is not in list\")"
   ]
  },
  {
   "cell_type": "code",
   "execution_count": 78,
   "id": "27868826",
   "metadata": {},
   "outputs": [
    {
     "data": {
      "text/plain": [
       "[3, 4, 5, 6, 7, 8, 9, 10]"
      ]
     },
     "execution_count": 78,
     "metadata": {},
     "output_type": "execute_result"
    }
   ],
   "source": [
    "l1"
   ]
  },
  {
   "cell_type": "code",
   "execution_count": 79,
   "id": "89221f51",
   "metadata": {},
   "outputs": [
    {
     "data": {
      "text/plain": [
       "5"
      ]
     },
     "execution_count": 79,
     "metadata": {},
     "output_type": "execute_result"
    }
   ],
   "source": [
    "l1.index(8)"
   ]
  },
  {
   "cell_type": "code",
   "execution_count": 80,
   "id": "2b177e95",
   "metadata": {},
   "outputs": [],
   "source": [
    "word = 4"
   ]
  },
  {
   "cell_type": "code",
   "execution_count": 83,
   "id": "f623b48b",
   "metadata": {},
   "outputs": [
    {
     "data": {
      "text/plain": [
       "1"
      ]
     },
     "execution_count": 83,
     "metadata": {},
     "output_type": "execute_result"
    }
   ],
   "source": [
    "l2 = l1.count(word)\n",
    "l2"
   ]
  },
  {
   "cell_type": "code",
   "execution_count": 84,
   "id": "afbbec8c",
   "metadata": {},
   "outputs": [
    {
     "data": {
      "text/plain": [
       "[10, 9, 8, 7, 6, 5, 4, 3]"
      ]
     },
     "execution_count": 84,
     "metadata": {},
     "output_type": "execute_result"
    }
   ],
   "source": [
    "l1[::-1]"
   ]
  },
  {
   "cell_type": "code",
   "execution_count": 85,
   "id": "16d900f9",
   "metadata": {},
   "outputs": [],
   "source": [
    "l1.sort()"
   ]
  },
  {
   "cell_type": "code",
   "execution_count": 86,
   "id": "70c4b7d3",
   "metadata": {},
   "outputs": [
    {
     "data": {
      "text/plain": [
       "[3, 4, 5, 6, 7, 8, 9, 10]"
      ]
     },
     "execution_count": 86,
     "metadata": {},
     "output_type": "execute_result"
    }
   ],
   "source": [
    "l1"
   ]
  },
  {
   "cell_type": "code",
   "execution_count": 87,
   "id": "1d035a21",
   "metadata": {},
   "outputs": [],
   "source": [
    "l1.sort(reverse = True)"
   ]
  },
  {
   "cell_type": "code",
   "execution_count": 88,
   "id": "011aca81",
   "metadata": {},
   "outputs": [
    {
     "data": {
      "text/plain": [
       "[10, 9, 8, 7, 6, 5, 4, 3]"
      ]
     },
     "execution_count": 88,
     "metadata": {},
     "output_type": "execute_result"
    }
   ],
   "source": [
    "l1"
   ]
  },
  {
   "cell_type": "code",
   "execution_count": 106,
   "id": "e4e51ab7",
   "metadata": {},
   "outputs": [],
   "source": [
    "l3 = list(range(2,21,2))"
   ]
  },
  {
   "cell_type": "code",
   "execution_count": 107,
   "id": "17319133",
   "metadata": {},
   "outputs": [
    {
     "data": {
      "text/plain": [
       "[2, 4, 6, 8, 10, 12, 14, 16, 18, 20]"
      ]
     },
     "execution_count": 107,
     "metadata": {},
     "output_type": "execute_result"
    }
   ],
   "source": [
    "l3"
   ]
  },
  {
   "cell_type": "code",
   "execution_count": 99,
   "id": "e3e06cfb",
   "metadata": {},
   "outputs": [
    {
     "data": {
      "text/plain": [
       "[1, 3, 5, 7, 9, 11, 13, 15, 17, 19]"
      ]
     },
     "execution_count": 99,
     "metadata": {},
     "output_type": "execute_result"
    }
   ],
   "source": [
    "l4 = list(range(1,21,2))\n",
    "l4"
   ]
  },
  {
   "cell_type": "code",
   "execution_count": 113,
   "id": "02c4ca8e",
   "metadata": {},
   "outputs": [
    {
     "data": {
      "text/plain": [
       "110"
      ]
     },
     "execution_count": 113,
     "metadata": {},
     "output_type": "execute_result"
    }
   ],
   "source": [
    "l5 = sum(l3)\n",
    "l5"
   ]
  },
  {
   "cell_type": "code",
   "execution_count": 116,
   "id": "192dcbac",
   "metadata": {},
   "outputs": [
    {
     "data": {
      "text/plain": [
       "20"
      ]
     },
     "execution_count": 116,
     "metadata": {},
     "output_type": "execute_result"
    }
   ],
   "source": [
    "l6 = max(l3)\n",
    "l6"
   ]
  },
  {
   "cell_type": "code",
   "execution_count": 117,
   "id": "d43826fc",
   "metadata": {},
   "outputs": [
    {
     "data": {
      "text/plain": [
       "2"
      ]
     },
     "execution_count": 117,
     "metadata": {},
     "output_type": "execute_result"
    }
   ],
   "source": [
    "l7 = min(l3)\n",
    "l7"
   ]
  },
  {
   "cell_type": "code",
   "execution_count": 132,
   "id": "3628b651",
   "metadata": {},
   "outputs": [
    {
     "name": "stdout",
     "output_type": "stream",
     "text": [
      "[1, 4, 9, 16, 25, 36, 49, 64, 81, 100]\n"
     ]
    }
   ],
   "source": [
    "v1 = [x**2 for x in range(1,11)]\n",
    "print(v1)"
   ]
  },
  {
   "cell_type": "code",
   "execution_count": 139,
   "id": "c5aa67a2",
   "metadata": {},
   "outputs": [
    {
     "name": "stdout",
     "output_type": "stream",
     "text": [
      "[13, 45, 4, 17, 31, 95, 43, 97, 29, 18, 48, 40, 5, 39, 9]\n"
     ]
    }
   ],
   "source": [
    "import random\n",
    "v2 = random.sample(range(1,111),15)\n",
    "print(v2)"
   ]
  },
  {
   "cell_type": "code",
   "execution_count": 19,
   "id": "ec993e84",
   "metadata": {},
   "outputs": [
    {
     "data": {
      "text/plain": [
       "[1, 2, 3, 5, 4, 3, 1, 5, 36]"
      ]
     },
     "execution_count": 19,
     "metadata": {},
     "output_type": "execute_result"
    }
   ],
   "source": [
    "l = [1,2,3,5,4,3,1,5,36]\n",
    "l"
   ]
  },
  {
   "cell_type": "code",
   "execution_count": 3,
   "id": "b0317baa",
   "metadata": {},
   "outputs": [
    {
     "name": "stdout",
     "output_type": "stream",
     "text": [
      "[1, 2, 3, 5, 4, 36]\n"
     ]
    }
   ],
   "source": [
    "duplicate = []\n",
    "for x in l:\n",
    "    if x not in duplicate:\n",
    "        duplicate.append(x)\n",
    "\n",
    "print(duplicate)"
   ]
  },
  {
   "cell_type": "code",
   "execution_count": 35,
   "id": "d6a78ceb",
   "metadata": {},
   "outputs": [
    {
     "name": "stdout",
     "output_type": "stream",
     "text": [
      "[1, 3, 4]\n"
     ]
    }
   ],
   "source": [
    "l = [1, 2, 3, 5, 4, 36]\n",
    "lm = [14,1,58,3,4,99]\n",
    "common = [x for x in l if x in lm]\n",
    "print(common)"
   ]
  },
  {
   "cell_type": "code",
   "execution_count": 36,
   "id": "9cab02a4",
   "metadata": {},
   "outputs": [
    {
     "name": "stdout",
     "output_type": "stream",
     "text": [
      "[2, 5, 36, 14, 58, 99]\n"
     ]
    }
   ],
   "source": [
    "diff = [x for x in l if x not in lm] + [x for x in lm if x not in l]\n",
    "print(diff)"
   ]
  },
  {
   "cell_type": "code",
   "execution_count": 37,
   "id": "2342af74",
   "metadata": {},
   "outputs": [
    {
     "name": "stdout",
     "output_type": "stream",
     "text": [
      "[1, 2, 3, 5, 4, 36, 14, 1, 58, 3, 4, 99]\n"
     ]
    }
   ],
   "source": [
    "l.extend(lm)\n",
    "print(l)"
   ]
  },
  {
   "cell_type": "code",
   "execution_count": 40,
   "id": "874e86bd",
   "metadata": {},
   "outputs": [],
   "source": [
    "l1 = [1,2,3,4,5,6,7,8,9]"
   ]
  },
  {
   "cell_type": "code",
   "execution_count": 42,
   "id": "2bc36a19",
   "metadata": {},
   "outputs": [
    {
     "name": "stdout",
     "output_type": "stream",
     "text": [
      "[2, 4, 6, 8, 10, 12, 14, 16, 18]\n"
     ]
    }
   ],
   "source": [
    "lv = [2*x for x in l1]\n",
    "print(lv)"
   ]
  },
  {
   "cell_type": "code",
   "execution_count": 48,
   "id": "a747305c",
   "metadata": {},
   "outputs": [
    {
     "data": {
      "text/plain": [
       "[1, 2, 3, 5, 4, 36, 14, 1, 58, 3, 4, 99]"
      ]
     },
     "execution_count": 48,
     "metadata": {},
     "output_type": "execute_result"
    }
   ],
   "source": [
    "l"
   ]
  },
  {
   "cell_type": "code",
   "execution_count": 4,
   "id": "62608881",
   "metadata": {},
   "outputs": [
    {
     "name": "stdout",
     "output_type": "stream",
     "text": [
      "[2, 4, 36]\n"
     ]
    }
   ],
   "source": [
    "even = [x for x in l if x%2 == 0]\n",
    "print(even)"
   ]
  },
  {
   "cell_type": "code",
   "execution_count": 16,
   "id": "8c105ff7",
   "metadata": {},
   "outputs": [
    {
     "name": "stdout",
     "output_type": "stream",
     "text": [
      "[2, 4, 6, 8, 10, 12, 14, 16, 18]\n"
     ]
    }
   ],
   "source": [
    "v = ['2', '4', '6', '8', '10', '12', '14', '16', '18']\n",
    "v1 = [int(num) for num in v]\n",
    "print(v1)"
   ]
  },
  {
   "cell_type": "code",
   "execution_count": 9,
   "id": "330c13f8",
   "metadata": {},
   "outputs": [
    {
     "name": "stdout",
     "output_type": "stream",
     "text": [
      "['1', '2', '3', '4', '5', '6', '7', '8', '9']\n"
     ]
    }
   ],
   "source": [
    "l1 = [1,2,3,4,5,6,7,8,9]\n",
    "v2 = [str(num) for num in l1]\n",
    "print(v2)"
   ]
  },
  {
   "cell_type": "code",
   "execution_count": 10,
   "id": "ee33aeeb",
   "metadata": {},
   "outputs": [
    {
     "data": {
      "text/plain": [
       "list"
      ]
     },
     "execution_count": 10,
     "metadata": {},
     "output_type": "execute_result"
    }
   ],
   "source": [
    "type(v2)"
   ]
  },
  {
   "cell_type": "code",
   "execution_count": 11,
   "id": "a965c56f",
   "metadata": {},
   "outputs": [
    {
     "name": "stdout",
     "output_type": "stream",
     "text": [
      "[1, 2, 3, 4, 5, 6, 7, 8, 9]\n"
     ]
    }
   ],
   "source": [
    "def flatten_list(nested_list):\n",
    "    flat_list = []\n",
    "    for item in nested_list:\n",
    "        if isinstance(item, list):\n",
    "            flat_list.extend(flatten_list(item))\n",
    "        else:\n",
    "            flat_list.append(item)\n",
    "    return flat_list\n",
    "\n",
    "nested_list = [[1, 2, [3, 4]], [5, [6, 7]], 8, [9]]\n",
    "flattened_list = flatten_list(nested_list)\n",
    "\n",
    "print(flattened_list)\n"
   ]
  },
  {
   "cell_type": "code",
   "execution_count": 7,
   "id": "361ac28d",
   "metadata": {},
   "outputs": [
    {
     "name": "stdout",
     "output_type": "stream",
     "text": [
      "[0, 1, 1, 2, 3, 5, 8, 13, 21, 34]\n"
     ]
    }
   ],
   "source": [
    "def fibonacci(n):\n",
    "    fibonacci_numbers = [0,1]\n",
    "    while len(fibonacci_numbers) < n:\n",
    "        next_number = fibonacci_numbers[-1] + fibonacci_numbers[-2]\n",
    "        fibonacci_numbers.append(next_number)\n",
    "    return fibonacci_numbers\n",
    "first_10 = fibonacci(10)\n",
    "print(first_10)"
   ]
  },
  {
   "cell_type": "code",
   "execution_count": 9,
   "id": "7400bed8",
   "metadata": {},
   "outputs": [
    {
     "data": {
      "text/plain": [
       "[0, 1, 1, 2, 3, 5, 8, 13, 21, 34]"
      ]
     },
     "execution_count": 9,
     "metadata": {},
     "output_type": "execute_result"
    }
   ],
   "source": [
    "first_10"
   ]
  },
  {
   "cell_type": "code",
   "execution_count": 13,
   "id": "bc1fc24c",
   "metadata": {},
   "outputs": [],
   "source": [
    "f = sorted(first_10)"
   ]
  },
  {
   "cell_type": "code",
   "execution_count": 14,
   "id": "407e3bce",
   "metadata": {},
   "outputs": [
    {
     "data": {
      "text/plain": [
       "[0, 1, 1, 2, 3, 5, 8, 13, 21, 34]"
      ]
     },
     "execution_count": 14,
     "metadata": {},
     "output_type": "execute_result"
    }
   ],
   "source": [
    "f"
   ]
  },
  {
   "cell_type": "code",
   "execution_count": 20,
   "id": "8576b496",
   "metadata": {},
   "outputs": [
    {
     "data": {
      "text/plain": [
       "[1, 2, 3, 5, 4, 3, 1, 5, 36]"
      ]
     },
     "execution_count": 20,
     "metadata": {},
     "output_type": "execute_result"
    }
   ],
   "source": [
    "l"
   ]
  },
  {
   "cell_type": "code",
   "execution_count": 14,
   "id": "6e065adf",
   "metadata": {},
   "outputs": [
    {
     "name": "stdout",
     "output_type": "stream",
     "text": [
      "it's not sorted\n"
     ]
    }
   ],
   "source": [
    "l1 == sorted(l)\n",
    "if l == l1 :\n",
    "    print(\"it's sorted\")\n",
    "    \n",
    "else:\n",
    "    print(\"it's not sorted\")"
   ]
  },
  {
   "cell_type": "code",
   "execution_count": 24,
   "id": "5633b00a",
   "metadata": {},
   "outputs": [
    {
     "name": "stdout",
     "output_type": "stream",
     "text": [
      "[3, 4, 5, 1, 2]\n"
     ]
    }
   ],
   "source": [
    "my_list = [1, 2, 3, 4, 5]\n",
    "n = 2\n",
    "\n",
    "rotated_list = my_list[n:] + my_list[:n]\n",
    "print(rotated_list)"
   ]
  },
  {
   "cell_type": "code",
   "execution_count": 31,
   "id": "d47921ff",
   "metadata": {},
   "outputs": [
    {
     "name": "stdout",
     "output_type": "stream",
     "text": [
      "[4, 5, 1, 2, 3]\n"
     ]
    }
   ],
   "source": [
    "my_list = [1, 2, 3, 4, 5]\n",
    "n = 2\n",
    "\n",
    "rotated_list = my_list[-n:] + my_list[:-n]\n",
    "print(rotated_list)"
   ]
  },
  {
   "cell_type": "code",
   "execution_count": 10,
   "id": "84e59646",
   "metadata": {},
   "outputs": [
    {
     "data": {
      "text/plain": [
       "[2, 3, 5, 7, 11, 13, 17, 19, 23, 29, 31, 37, 41, 43, 47]"
      ]
     },
     "execution_count": 10,
     "metadata": {},
     "output_type": "execute_result"
    }
   ],
   "source": [
    "p = 50\n",
    "primes = [n for n in range(2, p) if all(n % i != 0 for i in range(2,int(n**0.5)+1))]\n",
    "primes"
   ]
  },
  {
   "cell_type": "code",
   "execution_count": 12,
   "id": "2aa32ffd",
   "metadata": {},
   "outputs": [
    {
     "data": {
      "text/plain": [
       "[[1, 2, 3], [4, 5, 6], [7, 8, 9], [10]]"
      ]
     },
     "execution_count": 12,
     "metadata": {},
     "output_type": "execute_result"
    }
   ],
   "source": [
    "l = [1, 2, 3, 4, 5, 6, 7, 8, 9, 10]\n",
    "n = 3\n",
    "chunk = [l[i:i + n] for i in range(0, len(l), n)]\n",
    "chunk"
   ]
  },
  {
   "cell_type": "code",
   "execution_count": 3,
   "id": "db377aa6",
   "metadata": {},
   "outputs": [
    {
     "data": {
      "text/plain": [
       "58"
      ]
     },
     "execution_count": 3,
     "metadata": {},
     "output_type": "execute_result"
    }
   ],
   "source": [
    "l = [1, 2, 3, 5, 4, 36, 14, 1, 58, 3, 4, 99]\n",
    "l1 = sorted(l,reverse = True)\n",
    "l1[1]"
   ]
  },
  {
   "cell_type": "code",
   "execution_count": 7,
   "id": "6f33deba",
   "metadata": {},
   "outputs": [
    {
     "data": {
      "text/plain": [
       "[99, 58, 36, 14, 5, 4, 4, 3, 3, 2, 1, 1]"
      ]
     },
     "execution_count": 7,
     "metadata": {},
     "output_type": "execute_result"
    }
   ],
   "source": [
    "l1"
   ]
  },
  {
   "cell_type": "code",
   "execution_count": 5,
   "id": "5cdaa397",
   "metadata": {},
   "outputs": [],
   "source": [
    "l2 = [num**2 for num in l1]"
   ]
  },
  {
   "cell_type": "code",
   "execution_count": 6,
   "id": "a80b2161",
   "metadata": {},
   "outputs": [
    {
     "data": {
      "text/plain": [
       "[9801, 3364, 1296, 196, 25, 16, 16, 9, 9, 4, 1, 1]"
      ]
     },
     "execution_count": 6,
     "metadata": {},
     "output_type": "execute_result"
    }
   ],
   "source": [
    "l2"
   ]
  },
  {
   "cell_type": "code",
   "execution_count": 16,
   "id": "e927a9e0",
   "metadata": {},
   "outputs": [
    {
     "data": {
      "text/plain": [
       "{'apple': 0, 'banana': 1, 'orange': 2}"
      ]
     },
     "execution_count": 16,
     "metadata": {},
     "output_type": "execute_result"
    }
   ],
   "source": [
    "lst = ['apple', 'banana', 'orange']\n",
    "lst1 = {value: index for index , value in enumerate(lst)}\n",
    "lst1"
   ]
  },
  {
   "cell_type": "code",
   "execution_count": 17,
   "id": "090ee2ac",
   "metadata": {},
   "outputs": [
    {
     "name": "stdout",
     "output_type": "stream",
     "text": [
      "Original list: [1, 2, 3, 4, 5]\n",
      "Shuffled list: [2, 5, 4, 1, 3]\n"
     ]
    }
   ],
   "source": [
    "import random\n",
    "\n",
    "def shuffle_list(lst):\n",
    "    shuffled_list = lst.copy()  # Create a copy to avoid modifying the original list\n",
    "    random.shuffle(shuffled_list)\n",
    "    return shuffled_list\n",
    "\n",
    "# Example usage:\n",
    "my_list = [1, 2, 3, 4, 5]\n",
    "shuffled_list = shuffle_list(my_list)\n",
    "print(\"Original list:\", my_list)\n",
    "print(\"Shuffled list:\", shuffled_list)"
   ]
  },
  {
   "cell_type": "code",
   "execution_count": 18,
   "id": "c1010e99",
   "metadata": {},
   "outputs": [
    {
     "data": {
      "text/plain": [
       "[99, 58, 36, 14, 5, 4, 4, 3, 3, 2, 1, 1]"
      ]
     },
     "execution_count": 18,
     "metadata": {},
     "output_type": "execute_result"
    }
   ],
   "source": [
    "l1"
   ]
  },
  {
   "cell_type": "code",
   "execution_count": 81,
   "id": "d6384ca8",
   "metadata": {},
   "outputs": [
    {
     "name": "stdout",
     "output_type": "stream",
     "text": [
      "[1, 1, 2, 6, 24, 120, 720, 5040, 40320, 362880]\n"
     ]
    }
   ],
   "source": [
    "import math\n",
    "\n",
    "def generate_factorials(n):\n",
    "    factorials = []\n",
    "    for i in range(n):\n",
    "        factorials.append(math.factorial(i))\n",
    "    return factorials\n",
    "\n",
    "print(generate_factorials(10))"
   ]
  },
  {
   "cell_type": "code",
   "execution_count": 99,
   "id": "fa96dad6",
   "metadata": {},
   "outputs": [
    {
     "name": "stdout",
     "output_type": "stream",
     "text": [
      "True\n"
     ]
    }
   ],
   "source": [
    "def common_element(l, l1):\n",
    "    for element in list1:\n",
    "        if element in list2:\n",
    "            return True\n",
    "    return False\n",
    "result = common_element(l, l1)\n",
    "print(result)\n"
   ]
  },
  {
   "cell_type": "code",
   "execution_count": 105,
   "id": "288e565a",
   "metadata": {},
   "outputs": [
    {
     "data": {
      "text/plain": [
       "[]"
      ]
     },
     "execution_count": 105,
     "metadata": {},
     "output_type": "execute_result"
    }
   ],
   "source": [
    "lc = l.clear()\n",
    "l"
   ]
  },
  {
   "cell_type": "code",
   "execution_count": 116,
   "id": "e38822f4",
   "metadata": {},
   "outputs": [
    {
     "name": "stdout",
     "output_type": "stream",
     "text": [
      "[1, 0, 3, 0, 5]\n"
     ]
    }
   ],
   "source": [
    "def replace_negatives_with_zero(lst):\n",
    "    return [max(0, num) for num in lst]\n",
    "my_list = [1, -2, 3, -4, 5]\n",
    "result_list = replace_negatives_with_zero(my_list)\n",
    "print(result_list)"
   ]
  },
  {
   "cell_type": "code",
   "execution_count": 122,
   "id": "20e226ee",
   "metadata": {},
   "outputs": [
    {
     "name": "stdout",
     "output_type": "stream",
     "text": [
      "['vishal', 'data', 'science']\n"
     ]
    }
   ],
   "source": [
    "v = 'vishal data science'\n",
    "v1 = v.split()\n",
    "print(v1)"
   ]
  },
  {
   "cell_type": "code",
   "execution_count": 124,
   "id": "d8b9b578",
   "metadata": {},
   "outputs": [
    {
     "name": "stdout",
     "output_type": "stream",
     "text": [
      "apple banana orange\n"
     ]
    }
   ],
   "source": [
    "v2 = ' '.join(lst)\n",
    "print(v2)"
   ]
  },
  {
   "cell_type": "code",
   "execution_count": 127,
   "id": "d526eb23",
   "metadata": {},
   "outputs": [
    {
     "data": {
      "text/plain": [
       "[1, 2, 4, 8, 16]"
      ]
     },
     "execution_count": 127,
     "metadata": {},
     "output_type": "execute_result"
    }
   ],
   "source": [
    "n = 5\n",
    "power_of_two = [2**i for i in range(n)]\n",
    "power_of_two"
   ]
  },
  {
   "cell_type": "code",
   "execution_count": 149,
   "id": "7e5764e7",
   "metadata": {},
   "outputs": [
    {
     "name": "stdout",
     "output_type": "stream",
     "text": [
      "strawberry\n"
     ]
    }
   ],
   "source": [
    "string_list = [\"apple\", \"banana\", \"kiwi\", \"strawberry\", \"orange\"]\n",
    "\n",
    "longest_string = max(string_list, key=len, default=None)\n",
    "\n",
    "print(longest_string)"
   ]
  },
  {
   "cell_type": "code",
   "execution_count": 21,
   "id": "9a1ef990",
   "metadata": {},
   "outputs": [
    {
     "name": "stdout",
     "output_type": "stream",
     "text": [
      "kiwi\n"
     ]
    }
   ],
   "source": [
    "string_list = [\"apple\", \"banana\", \"kiwi\", \"strawberry\", \"orange\"]\n",
    "\n",
    "shortest_string = min(string_list, key=len, default=None)\n",
    "\n",
    "print(shortest_string)"
   ]
  },
  {
   "cell_type": "code",
   "execution_count": 153,
   "id": "934ea3b0",
   "metadata": {},
   "outputs": [
    {
     "name": "stdout",
     "output_type": "stream",
     "text": [
      "[1, 3, 6, 10, 15, 21, 28, 36, 45, 55]\n"
     ]
    }
   ],
   "source": [
    "#formula : T_n = n * (n + 1) / 2\n",
    "n = 10\n",
    "triangular_numbers = [(i * (i + 1)) // 2 for i in range(1, n + 1)]\n",
    "\n",
    "print(triangular_numbers)"
   ]
  },
  {
   "cell_type": "code",
   "execution_count": 156,
   "id": "a820fdeb",
   "metadata": {},
   "outputs": [
    {
     "name": "stdout",
     "output_type": "stream",
     "text": [
      "True\n"
     ]
    }
   ],
   "source": [
    "from collections import Counter\n",
    "mainlist = [1, 2, 3, 4, 5, 6, 7, 8, 9]\n",
    "sublist = [3, 5, 7]\n",
    "sub_counter = Counter(sublist)\n",
    "main_counter = Counter(mainlist)\n",
    "\n",
    "v = all(sub_counter[item] <= main_counter[item] for item in sublist)\n",
    "\n",
    "print(v)"
   ]
  },
  {
   "cell_type": "code",
   "execution_count": 171,
   "id": "d6a04c06",
   "metadata": {},
   "outputs": [
    {
     "name": "stdout",
     "output_type": "stream",
     "text": [
      "Original list: [1, 2, 3, 4, 5]\n",
      "List after swapping elements at indices 1 and 3: [1, 4, 3, 2, 5]\n"
     ]
    }
   ],
   "source": [
    "def swap_elements_by_indices(lst, index1, index2):\n",
    "    if 0 <= index1 < len(lst) and 0 <= index2 < len(lst):\n",
    "        lst[index1], lst[index2] = lst[index2], lst[index1]\n",
    "my_list = [1, 2, 3, 4, 5]\n",
    "print(\"Original list:\", my_list)\n",
    "\n",
    "swap_elements_by_indices(my_list, 1, 3)\n",
    "print(\"List after swapping elements at indices 1 and 3:\", my_list)\n"
   ]
  },
  {
   "cell_type": "markdown",
   "id": "da9d70ff",
   "metadata": {},
   "source": [
    "## Tuple Based Problem"
   ]
  },
  {
   "cell_type": "code",
   "execution_count": 53,
   "id": "523fbeb1",
   "metadata": {},
   "outputs": [
    {
     "data": {
      "text/plain": [
       "(1, 2, 3, 4, 5)"
      ]
     },
     "execution_count": 53,
     "metadata": {},
     "output_type": "execute_result"
    }
   ],
   "source": [
    "t = tuple(range(1,6))\n",
    "t"
   ]
  },
  {
   "cell_type": "code",
   "execution_count": 176,
   "id": "4d0f1bfe",
   "metadata": {},
   "outputs": [
    {
     "data": {
      "text/plain": [
       "3"
      ]
     },
     "execution_count": 176,
     "metadata": {},
     "output_type": "execute_result"
    }
   ],
   "source": [
    "t[2]"
   ]
  },
  {
   "cell_type": "code",
   "execution_count": 178,
   "id": "3f4cf203",
   "metadata": {},
   "outputs": [
    {
     "data": {
      "text/plain": [
       "(1, 2, 3, 4, 5)"
      ]
     },
     "execution_count": 178,
     "metadata": {},
     "output_type": "execute_result"
    }
   ],
   "source": [
    "t"
   ]
  },
  {
   "cell_type": "code",
   "execution_count": 75,
   "id": "ea974152",
   "metadata": {},
   "outputs": [
    {
     "name": "stdout",
     "output_type": "stream",
     "text": [
      "5\n"
     ]
    }
   ],
   "source": [
    "my_tuple = (1, 2, 3, 4, 5)\n",
    "tuple_length = 0\n",
    "\n",
    "for _ in my_tuple:\n",
    "    tuple_length += 1\n",
    "\n",
    "print(tuple_length)"
   ]
  },
  {
   "cell_type": "code",
   "execution_count": 59,
   "id": "420dc708",
   "metadata": {},
   "outputs": [
    {
     "data": {
      "text/plain": [
       "4"
      ]
     },
     "execution_count": 59,
     "metadata": {},
     "output_type": "execute_result"
    }
   ],
   "source": [
    "t1 = (1,5,2,4,45,2,5,9,5,7,3,5)\n",
    "t1.count(5)"
   ]
  },
  {
   "cell_type": "code",
   "execution_count": 50,
   "id": "4f7411e6",
   "metadata": {},
   "outputs": [
    {
     "data": {
      "text/plain": [
       "1"
      ]
     },
     "execution_count": 50,
     "metadata": {},
     "output_type": "execute_result"
    }
   ],
   "source": [
    "t1.index(5)"
   ]
  },
  {
   "cell_type": "code",
   "execution_count": 51,
   "id": "ec37d819",
   "metadata": {},
   "outputs": [
    {
     "name": "stdout",
     "output_type": "stream",
     "text": [
      "True\n"
     ]
    }
   ],
   "source": [
    "def check(n,t1):\n",
    "    if n in t1:\n",
    "        return True\n",
    "    else:\n",
    "        return False\n",
    "n = 45 \n",
    "result = check(n,t1)\n",
    "print(result)"
   ]
  },
  {
   "cell_type": "code",
   "execution_count": 60,
   "id": "3d500e13",
   "metadata": {},
   "outputs": [
    {
     "data": {
      "text/plain": [
       "[1, 5, 2, 4, 45, 2, 5, 9, 5, 7, 3, 5]"
      ]
     },
     "execution_count": 60,
     "metadata": {},
     "output_type": "execute_result"
    }
   ],
   "source": [
    "t2 =list(t1)\n",
    "t2"
   ]
  },
  {
   "cell_type": "code",
   "execution_count": 61,
   "id": "3090b028",
   "metadata": {},
   "outputs": [
    {
     "data": {
      "text/plain": [
       "list"
      ]
     },
     "execution_count": 61,
     "metadata": {},
     "output_type": "execute_result"
    }
   ],
   "source": [
    "type(t2)"
   ]
  },
  {
   "cell_type": "code",
   "execution_count": 62,
   "id": "ca60699f",
   "metadata": {},
   "outputs": [
    {
     "data": {
      "text/plain": [
       "(1, 5, 2, 4, 45, 2, 5, 9, 5, 7, 3, 5)"
      ]
     },
     "execution_count": 62,
     "metadata": {},
     "output_type": "execute_result"
    }
   ],
   "source": [
    "t3 = tuple(t2)\n",
    "t3"
   ]
  },
  {
   "cell_type": "code",
   "execution_count": 211,
   "id": "a10d8d42",
   "metadata": {},
   "outputs": [
    {
     "data": {
      "text/plain": [
       "tuple"
      ]
     },
     "execution_count": 211,
     "metadata": {},
     "output_type": "execute_result"
    }
   ],
   "source": [
    "type(t3)"
   ]
  },
  {
   "cell_type": "code",
   "execution_count": 213,
   "id": "0f3f4489",
   "metadata": {},
   "outputs": [
    {
     "data": {
      "text/plain": [
       "(1, 2, 3, 4, 5)"
      ]
     },
     "execution_count": 213,
     "metadata": {},
     "output_type": "execute_result"
    }
   ],
   "source": [
    "t"
   ]
  },
  {
   "cell_type": "code",
   "execution_count": 215,
   "id": "527982f8",
   "metadata": {},
   "outputs": [],
   "source": [
    "var1 ,var2 ,var3, var4,var5 = t"
   ]
  },
  {
   "cell_type": "code",
   "execution_count": 216,
   "id": "5c06971f",
   "metadata": {},
   "outputs": [
    {
     "name": "stdout",
     "output_type": "stream",
     "text": [
      "1 2 3 4 5\n"
     ]
    }
   ],
   "source": [
    "print(var1 ,var2 ,var3, var4,var5)"
   ]
  },
  {
   "cell_type": "code",
   "execution_count": 220,
   "id": "96811bec",
   "metadata": {},
   "outputs": [
    {
     "data": {
      "text/plain": [
       "(1, 2, 3, 4, 5, 6, 7, 8, 9, 10)"
      ]
     },
     "execution_count": 220,
     "metadata": {},
     "output_type": "execute_result"
    }
   ],
   "source": [
    "t = tuple(range(1,11))\n",
    "t"
   ]
  },
  {
   "cell_type": "code",
   "execution_count": 30,
   "id": "f0795269",
   "metadata": {},
   "outputs": [
    {
     "name": "stdout",
     "output_type": "stream",
     "text": [
      "(12, 8, 6, 56, 2)\n"
     ]
    }
   ],
   "source": [
    "even = tuple(x for x in t if x%2 == 0)\n",
    "print(even)"
   ]
  },
  {
   "cell_type": "code",
   "execution_count": 28,
   "id": "de56359d",
   "metadata": {},
   "outputs": [
    {
     "name": "stdout",
     "output_type": "stream",
     "text": [
      "(5, 3, 9, 1, 5, 1, 345, 511)\n"
     ]
    }
   ],
   "source": [
    "odd = tuple(x for x in t if x%2 != 0)\n",
    "print(odd)"
   ]
  },
  {
   "cell_type": "code",
   "execution_count": 45,
   "id": "2dfe0ec2",
   "metadata": {},
   "outputs": [
    {
     "data": {
      "text/plain": [
       "(1, 2, 3, 4, 5, 42, 'Hello, World!', 3.14, True)"
      ]
     },
     "execution_count": 45,
     "metadata": {},
     "output_type": "execute_result"
    }
   ],
   "source": [
    "t_con = t + t1\n",
    "t_con"
   ]
  },
  {
   "cell_type": "code",
   "execution_count": 54,
   "id": "9f8049ad",
   "metadata": {},
   "outputs": [
    {
     "data": {
      "text/plain": [
       "(1, 2, 3, 4, 5, 1, 2, 3, 4, 5, 1, 2, 3, 4, 5)"
      ]
     },
     "execution_count": 54,
     "metadata": {},
     "output_type": "execute_result"
    }
   ],
   "source": [
    "t_3 = t*3\n",
    "t_3"
   ]
  },
  {
   "cell_type": "code",
   "execution_count": 240,
   "id": "04c9f93c",
   "metadata": {},
   "outputs": [
    {
     "name": "stdout",
     "output_type": "stream",
     "text": [
      "not_empty\n"
     ]
    }
   ],
   "source": [
    "if len(t) == 0:\n",
    "    print('empty')\n",
    "else:\n",
    "    print('not_empty')"
   ]
  },
  {
   "cell_type": "code",
   "execution_count": 241,
   "id": "c2026594",
   "metadata": {},
   "outputs": [
    {
     "data": {
      "text/plain": [
       "((1, 2, 3), ('a', 'b', 'c'), (True, False))"
      ]
     },
     "execution_count": 241,
     "metadata": {},
     "output_type": "execute_result"
    }
   ],
   "source": [
    "Nested_t= ((1, 2, 3), ('a', 'b', 'c'), (True, False))\n",
    "Nested_t"
   ]
  },
  {
   "cell_type": "code",
   "execution_count": 243,
   "id": "b244deae",
   "metadata": {},
   "outputs": [
    {
     "data": {
      "text/plain": [
       "(1, 2, 3)"
      ]
     },
     "execution_count": 243,
     "metadata": {},
     "output_type": "execute_result"
    }
   ],
   "source": [
    "Nested_t[0]"
   ]
  },
  {
   "cell_type": "code",
   "execution_count": 247,
   "id": "dd174ca3",
   "metadata": {},
   "outputs": [
    {
     "name": "stdout",
     "output_type": "stream",
     "text": [
      "(42,)\n"
     ]
    }
   ],
   "source": [
    "single_element_tuple = (42,)\n",
    "print(single_element_tuple)"
   ]
  },
  {
   "cell_type": "code",
   "execution_count": 251,
   "id": "6c6bb93b",
   "metadata": {},
   "outputs": [
    {
     "name": "stdout",
     "output_type": "stream",
     "text": [
      "Tuples are not equal\n",
      "Tuples are not equal\n",
      "Tuple1 is greater than tuple2\n"
     ]
    }
   ],
   "source": [
    "tuple1 = (1, 2, 3, 4)\n",
    "tuple2 = (1, 2, 3)\n",
    "\n",
    "# Equal\n",
    "if tuple1 == tuple2:\n",
    "    print(\"Tuples are equal\")\n",
    "else:\n",
    "    print(\"Tuples are not equal\")\n",
    "\n",
    "# Not equal\n",
    "if tuple1 != tuple2:\n",
    "    print(\"Tuples are not equal\")\n",
    "else:\n",
    "    print(\"Tuples are equal\")\n",
    "\n",
    "# Greater than\n",
    "if tuple1 > tuple2:\n",
    "    print(\"Tuple1 is greater than tuple2\")\n",
    "else:\n",
    "    print(\"Tuple1 is not greater than tuple2\")\n"
   ]
  },
  {
   "cell_type": "code",
   "execution_count": 254,
   "id": "82e6c2c1",
   "metadata": {},
   "outputs": [
    {
     "data": {
      "text/plain": [
       "(1, 2, 3, 4, 5, 6, 7, 8, 9, 10)"
      ]
     },
     "execution_count": 254,
     "metadata": {},
     "output_type": "execute_result"
    }
   ],
   "source": [
    "t"
   ]
  },
  {
   "cell_type": "code",
   "execution_count": 256,
   "id": "6172b272",
   "metadata": {},
   "outputs": [],
   "source": [
    "del t"
   ]
  },
  {
   "cell_type": "code",
   "execution_count": 44,
   "id": "4310f175",
   "metadata": {},
   "outputs": [
    {
     "data": {
      "text/plain": [
       "(1, 2, 3, 4, 5)"
      ]
     },
     "execution_count": 44,
     "metadata": {},
     "output_type": "execute_result"
    }
   ],
   "source": [
    "t"
   ]
  },
  {
   "cell_type": "code",
   "execution_count": 258,
   "id": "2671a3a0",
   "metadata": {},
   "outputs": [
    {
     "data": {
      "text/plain": [
       "(1, 5, 2, 4, 45, 2, 5, 9, 5, 7, 3, 5)"
      ]
     },
     "execution_count": 258,
     "metadata": {},
     "output_type": "execute_result"
    }
   ],
   "source": [
    "t1"
   ]
  },
  {
   "cell_type": "code",
   "execution_count": 259,
   "id": "dbbc64b7",
   "metadata": {},
   "outputs": [
    {
     "data": {
      "text/plain": [
       "(5, 2, 4)"
      ]
     },
     "execution_count": 259,
     "metadata": {},
     "output_type": "execute_result"
    }
   ],
   "source": [
    "sliced = t1[1:4]\n",
    "sliced"
   ]
  },
  {
   "cell_type": "code",
   "execution_count": 260,
   "id": "d1bf1066",
   "metadata": {},
   "outputs": [
    {
     "data": {
      "text/plain": [
       "45"
      ]
     },
     "execution_count": 260,
     "metadata": {},
     "output_type": "execute_result"
    }
   ],
   "source": [
    "max(t1)"
   ]
  },
  {
   "cell_type": "code",
   "execution_count": 261,
   "id": "f204b6e7",
   "metadata": {},
   "outputs": [
    {
     "data": {
      "text/plain": [
       "1"
      ]
     },
     "execution_count": 261,
     "metadata": {},
     "output_type": "execute_result"
    }
   ],
   "source": [
    "min(t1)"
   ]
  },
  {
   "cell_type": "code",
   "execution_count": 263,
   "id": "816fda08",
   "metadata": {},
   "outputs": [
    {
     "data": {
      "text/plain": [
       "'Hello world'"
      ]
     },
     "execution_count": 263,
     "metadata": {},
     "output_type": "execute_result"
    }
   ],
   "source": [
    "s1 = 'Hello world'\n",
    "s1"
   ]
  },
  {
   "cell_type": "code",
   "execution_count": 264,
   "id": "63cf252e",
   "metadata": {},
   "outputs": [
    {
     "data": {
      "text/plain": [
       "('H', 'e', 'l', 'l', 'o', ' ', 'w', 'o', 'r', 'l', 'd')"
      ]
     },
     "execution_count": 264,
     "metadata": {},
     "output_type": "execute_result"
    }
   ],
   "source": [
    "s2 = tuple(s1)\n",
    "s2"
   ]
  },
  {
   "cell_type": "code",
   "execution_count": 265,
   "id": "e55bf31a",
   "metadata": {},
   "outputs": [
    {
     "data": {
      "text/plain": [
       "tuple"
      ]
     },
     "execution_count": 265,
     "metadata": {},
     "output_type": "execute_result"
    }
   ],
   "source": [
    "type(s2)"
   ]
  },
  {
   "cell_type": "code",
   "execution_count": 268,
   "id": "d247da50",
   "metadata": {},
   "outputs": [
    {
     "data": {
      "text/plain": [
       "'Hello world'"
      ]
     },
     "execution_count": 268,
     "metadata": {},
     "output_type": "execute_result"
    }
   ],
   "source": [
    "s3 = ''.join(tuple(s2))\n",
    "s3"
   ]
  },
  {
   "cell_type": "code",
   "execution_count": 1,
   "id": "b5d71e82",
   "metadata": {},
   "outputs": [
    {
     "data": {
      "text/plain": [
       "(42, 'Hello, World!', 3.14, True)"
      ]
     },
     "execution_count": 1,
     "metadata": {},
     "output_type": "execute_result"
    }
   ],
   "source": [
    "t1 = (42, \"Hello, World!\", 3.14, True)\n",
    "t1"
   ]
  },
  {
   "cell_type": "code",
   "execution_count": 5,
   "id": "5c190be2",
   "metadata": {},
   "outputs": [
    {
     "data": {
      "text/plain": [
       "(1, 2, 3, 4, 5)"
      ]
     },
     "execution_count": 5,
     "metadata": {},
     "output_type": "execute_result"
    }
   ],
   "source": [
    "t"
   ]
  },
  {
   "cell_type": "code",
   "execution_count": 8,
   "id": "b3e49ca4",
   "metadata": {},
   "outputs": [
    {
     "data": {
      "text/plain": [
       "(1, 2, 3, 4, 5, 1, 2, 3, 4, 5, 1, 2, 3, 4, 5)"
      ]
     },
     "execution_count": 8,
     "metadata": {},
     "output_type": "execute_result"
    }
   ],
   "source": [
    "t_3"
   ]
  },
  {
   "cell_type": "code",
   "execution_count": 9,
   "id": "b193fb66",
   "metadata": {},
   "outputs": [
    {
     "name": "stdout",
     "output_type": "stream",
     "text": [
      "both tuples are not identical\n"
     ]
    }
   ],
   "source": [
    "if t1 == t_3:\n",
    "    print(\"both tuple are identical\")\n",
    "else:\n",
    "    print(\"both tuples are not identical\")"
   ]
  },
  {
   "cell_type": "code",
   "execution_count": 55,
   "id": "899f7e67",
   "metadata": {},
   "outputs": [
    {
     "data": {
      "text/plain": [
       "(1, 1, 1, 2, 2, 2, 3, 3, 3, 4, 4, 4, 5, 5, 5)"
      ]
     },
     "execution_count": 55,
     "metadata": {},
     "output_type": "execute_result"
    }
   ],
   "source": [
    "t4 = tuple(sorted(t_3))\n",
    "t4"
   ]
  },
  {
   "cell_type": "code",
   "execution_count": 17,
   "id": "88dbf746",
   "metadata": {},
   "outputs": [
    {
     "data": {
      "text/plain": [
       "('1', '1', '1', '2', '2', '2', '3', '3', '3', '4', '4', '4', '5', '5', '5')"
      ]
     },
     "execution_count": 17,
     "metadata": {},
     "output_type": "execute_result"
    }
   ],
   "source": [
    "t5 = tuple(str(i) for i in t4)\n",
    "t5"
   ]
  },
  {
   "cell_type": "code",
   "execution_count": 19,
   "id": "08c2dc5a",
   "metadata": {},
   "outputs": [
    {
     "data": {
      "text/plain": [
       "(1, 1, 1, 2, 2, 2, 3, 3, 3, 4, 4, 4, 5, 5, 5)"
      ]
     },
     "execution_count": 19,
     "metadata": {},
     "output_type": "execute_result"
    }
   ],
   "source": [
    "t6 = tuple(int(i) for i in t5)\n",
    "t6"
   ]
  },
  {
   "cell_type": "code",
   "execution_count": 24,
   "id": "e791ee5c",
   "metadata": {},
   "outputs": [
    {
     "data": {
      "text/plain": [
       "(1, 2, 3, 4, 5, 1, 2, 3, 4, 5, 1, 2, 3, 4, 5, 1, 2, 3, 4, 5)"
      ]
     },
     "execution_count": 24,
     "metadata": {},
     "output_type": "execute_result"
    }
   ],
   "source": [
    "t7 = tuple(t) + tuple(t_3)\n",
    "t7"
   ]
  },
  {
   "cell_type": "code",
   "execution_count": 30,
   "id": "79b17c93",
   "metadata": {},
   "outputs": [
    {
     "name": "stdout",
     "output_type": "stream",
     "text": [
      "Flattened Tuple: (1, 2, 3, 'a', 'b', 'c', 4, 5, 6)\n"
     ]
    }
   ],
   "source": [
    "def flatten_nested_tuple(n_tuple):\n",
    "    flattened_list = []\n",
    "    for item in n_tuple:\n",
    "        if isinstance(item, tuple):\n",
    "            flattened_list.extend(flatten_nested_tuple(item))\n",
    "        else:\n",
    "            flattened_list.append(item)\n",
    "    return flattened_list\n",
    "\n",
    "n_tuple = ((1, 2, 3), ('a', 'b', 'c'), (4, 5, 6))\n",
    "\n",
    "flattened_tuple = tuple(flatten_nested_tuple(n_tuple))\n",
    "\n",
    "print(\"Flattened Tuple:\", flattened_tuple)\n"
   ]
  },
  {
   "cell_type": "code",
   "execution_count": 29,
   "id": "be88d24a",
   "metadata": {},
   "outputs": [
    {
     "data": {
      "text/plain": [
       "(2, 3, 5, 7, 11)"
      ]
     },
     "execution_count": 29,
     "metadata": {},
     "output_type": "execute_result"
    }
   ],
   "source": [
    "p = 12\n",
    "primes = tuple(n for n in range(2, p) if all(n % i != 0 for i in range(2,int(n**0.5)+1)))\n",
    "primes"
   ]
  },
  {
   "cell_type": "code",
   "execution_count": 32,
   "id": "e18388f2",
   "metadata": {},
   "outputs": [
    {
     "name": "stdout",
     "output_type": "stream",
     "text": [
      "No\n"
     ]
    }
   ],
   "source": [
    "def palindrome(n_tuple):\n",
    "    return n_tuple == n_tuple[::-1]\n",
    "ans = palindrome(n_tuple)\n",
    "if ans:\n",
    "    print(\"yes\")\n",
    "else:\n",
    "    print(\"No\")"
   ]
  },
  {
   "cell_type": "code",
   "execution_count": 35,
   "id": "d2d8857f",
   "metadata": {},
   "outputs": [
    {
     "data": {
      "text/plain": [
       "(1, 2, 3, 4, 5)"
      ]
     },
     "execution_count": 35,
     "metadata": {},
     "output_type": "execute_result"
    }
   ],
   "source": [
    "t"
   ]
  },
  {
   "cell_type": "code",
   "execution_count": 19,
   "id": "51104855",
   "metadata": {},
   "outputs": [
    {
     "data": {
      "text/plain": [
       "(1, 4, 9, 16, 25)"
      ]
     },
     "execution_count": 19,
     "metadata": {},
     "output_type": "execute_result"
    }
   ],
   "source": [
    "t_square = tuple(i**2 for i in (range(1,6)))\n",
    "t_square"
   ]
  },
  {
   "cell_type": "code",
   "execution_count": 55,
   "id": "138d5760",
   "metadata": {},
   "outputs": [
    {
     "data": {
      "text/plain": [
       "(1, 5, 2, 4, 45, 2, 5, 9, 5, 7, 3, 5)"
      ]
     },
     "execution_count": 55,
     "metadata": {},
     "output_type": "execute_result"
    }
   ],
   "source": [
    "t3"
   ]
  },
  {
   "cell_type": "code",
   "execution_count": 61,
   "id": "41734880",
   "metadata": {},
   "outputs": [
    {
     "name": "stdout",
     "output_type": "stream",
     "text": [
      "(2, 4, 2)\n"
     ]
    }
   ],
   "source": [
    "t_even = tuple(i for i in t3 if i%2 == 0)\n",
    "print(t_even)"
   ]
  },
  {
   "cell_type": "code",
   "execution_count": 64,
   "id": "59ccd72c",
   "metadata": {},
   "outputs": [
    {
     "data": {
      "text/plain": [
       "(2, 10, 4, 8, 90, 4, 10, 18, 10, 14, 6, 10)"
      ]
     },
     "execution_count": 64,
     "metadata": {},
     "output_type": "execute_result"
    }
   ],
   "source": [
    "t_m = tuple(x*2 for x in t3)\n",
    "t_m"
   ]
  },
  {
   "cell_type": "code",
   "execution_count": 66,
   "id": "c405d7bf",
   "metadata": {},
   "outputs": [
    {
     "data": {
      "text/plain": [
       "(72, 9, 93, 75, 99)"
      ]
     },
     "execution_count": 66,
     "metadata": {},
     "output_type": "execute_result"
    }
   ],
   "source": [
    "import random\n",
    "r_tuple = tuple(random.randint(1,100) for _ in range(5))\n",
    "r_tuple"
   ]
  },
  {
   "cell_type": "code",
   "execution_count": 68,
   "id": "029be5cd",
   "metadata": {},
   "outputs": [
    {
     "name": "stdout",
     "output_type": "stream",
     "text": [
      "unsorted\n"
     ]
    }
   ],
   "source": [
    "if r_tuple == sorted(r_tuple):\n",
    "    print(\"Sorted\")\n",
    "else:\n",
    "    print(\"unsorted\")"
   ]
  },
  {
   "cell_type": "code",
   "execution_count": 70,
   "id": "1f70d610",
   "metadata": {},
   "outputs": [
    {
     "name": "stdout",
     "output_type": "stream",
     "text": [
      "(3, 4, 5, 1, 2)\n"
     ]
    }
   ],
   "source": [
    "tu = (1, 2, 3, 4, 5)\n",
    "n = 2\n",
    "\n",
    "left_rotated = tu[n:] + tu[:n]\n",
    "print(left_rotated) "
   ]
  },
  {
   "cell_type": "code",
   "execution_count": 71,
   "id": "7bae7bc5",
   "metadata": {},
   "outputs": [
    {
     "name": "stdout",
     "output_type": "stream",
     "text": [
      "(4, 5, 1, 2, 3)\n"
     ]
    }
   ],
   "source": [
    "tu = (1, 2, 3, 4, 5)\n",
    "n = 2\n",
    "\n",
    "right_rotated = tu[-n:] + tu[:-n]\n",
    "print(right_rotated)"
   ]
  },
  {
   "cell_type": "code",
   "execution_count": 76,
   "id": "61a368a0",
   "metadata": {},
   "outputs": [
    {
     "data": {
      "text/plain": [
       "(0, 1, 1, 2, 3)"
      ]
     },
     "execution_count": 76,
     "metadata": {},
     "output_type": "execute_result"
    }
   ],
   "source": [
    "def fibonacci(n):\n",
    "    fib_list = [0, 1]\n",
    "    while len(fib_list) < n:\n",
    "        fib_list.append(fib_list[-1] + fib_list[-2])\n",
    "    return tuple(fib_list)\n",
    "fibonacci_tuple = fibonacci(5)\n",
    "fibonacci_tuple"
   ]
  },
  {
   "cell_type": "code",
   "execution_count": 2,
   "id": "a954806a",
   "metadata": {},
   "outputs": [
    {
     "name": "stdout",
     "output_type": "stream",
     "text": [
      "my name is :vishal\n"
     ]
    },
    {
     "data": {
      "text/plain": [
       "('vishal',)"
      ]
     },
     "execution_count": 2,
     "metadata": {},
     "output_type": "execute_result"
    }
   ],
   "source": [
    "user_inp = input(\"my name is :\")\n",
    "user_tuple = tuple(map(str.strip, user_inp.split(',')))\n",
    "user_tuple"
   ]
  },
  {
   "cell_type": "code",
   "execution_count": 5,
   "id": "e6e1c35b",
   "metadata": {},
   "outputs": [
    {
     "data": {
      "text/plain": [
       "(1, 4, 3, 2, 5)"
      ]
     },
     "execution_count": 5,
     "metadata": {},
     "output_type": "execute_result"
    }
   ],
   "source": [
    "original_tuple = (1, 2, 3, 4, 5)\n",
    "index1, index2 = 1, 3\n",
    "list_version = list(original_tuple)\n",
    "list_version[index1], list_version[index2] = list_version[index2], list_version[index1]\n",
    "swapped_tuple = tuple(list_version)\n",
    "swapped_tuple"
   ]
  },
  {
   "cell_type": "code",
   "execution_count": 11,
   "id": "106276c0",
   "metadata": {},
   "outputs": [
    {
     "data": {
      "text/plain": [
       "(5, 2, 3, 4, 1)"
      ]
     },
     "execution_count": 11,
     "metadata": {},
     "output_type": "execute_result"
    }
   ],
   "source": [
    "t =tuple(reversed(swapped_tuple))\n",
    "t"
   ]
  },
  {
   "cell_type": "code",
   "execution_count": 17,
   "id": "07b22a7f",
   "metadata": {},
   "outputs": [
    {
     "data": {
      "text/plain": [
       "(2, 4, 8, 16, 32)"
      ]
     },
     "execution_count": 17,
     "metadata": {},
     "output_type": "execute_result"
    }
   ],
   "source": [
    "t_power = tuple(2**i for i in (range(1,6)))\n",
    "t_power"
   ]
  },
  {
   "cell_type": "code",
   "execution_count": 26,
   "id": "5846a210",
   "metadata": {},
   "outputs": [
    {
     "data": {
      "text/plain": [
       "('apple', 'banana', 'kiwi', 'strawberry', 'orange')"
      ]
     },
     "execution_count": 26,
     "metadata": {},
     "output_type": "execute_result"
    }
   ],
   "source": [
    "t_S = tuple(string_list)\n",
    "t_S"
   ]
  },
  {
   "cell_type": "code",
   "execution_count": 34,
   "id": "47569cc9",
   "metadata": {},
   "outputs": [
    {
     "name": "stdout",
     "output_type": "stream",
     "text": [
      "strawberry\n"
     ]
    }
   ],
   "source": [
    "t_S = ('apple', 'banana', 'kiwi', 'strawberry', 'orange')\n",
    "longest_string = ''\n",
    "max_length = 0\n",
    "for string in t_S:\n",
    "    if len(string) > max_length:\n",
    "        longest_string = string\n",
    "        max_length = len(string)\n",
    "print(longest_string)"
   ]
  },
  {
   "cell_type": "code",
   "execution_count": 39,
   "id": "6225718a",
   "metadata": {},
   "outputs": [
    {
     "name": "stdout",
     "output_type": "stream",
     "text": [
      "kiwi\n"
     ]
    }
   ],
   "source": [
    "shortst_string = t_S[0]\n",
    "min_length = len(shortest_string)\n",
    "for string in t_S:\n",
    "    if len(string) < min_length:\n",
    "        shortest_string = string\n",
    "        min_length = len(string)\n",
    "print(shortest_string)"
   ]
  },
  {
   "cell_type": "code",
   "execution_count": 41,
   "id": "e8c53afd",
   "metadata": {},
   "outputs": [
    {
     "name": "stdout",
     "output_type": "stream",
     "text": [
      "(1, 3, 6, 10, 15, 21, 28, 36, 45, 55)\n"
     ]
    }
   ],
   "source": [
    "n = 10\n",
    "triangular_tuple = tuple((i * (i + 1)) // 2 for i in range(1, n + 1))\n",
    "print(triangular_tuple)"
   ]
  },
  {
   "cell_type": "code",
   "execution_count": 44,
   "id": "60c687f0",
   "metadata": {},
   "outputs": [
    {
     "name": "stdout",
     "output_type": "stream",
     "text": [
      "True\n"
     ]
    }
   ],
   "source": [
    "from collections import Counter\n",
    "mainlist = (1, 2, 3, 4, 5, 6, 7, 8, 9)\n",
    "sublist = (3, 5, 7)\n",
    "sub_counter = Counter(sublist)\n",
    "main_counter = Counter(mainlist)\n",
    "\n",
    "v = all(sub_counter[item] <= main_counter[item] for item in sublist)\n",
    "\n",
    "print(v)"
   ]
  },
  {
   "cell_type": "code",
   "execution_count": 45,
   "id": "cc806fb1",
   "metadata": {},
   "outputs": [
    {
     "name": "stdout",
     "output_type": "stream",
     "text": [
      "(1, 0, 1, 0, 1, 0, 1, 0)\n"
     ]
    }
   ],
   "source": [
    "n = 8 \n",
    "alternating_tuple = tuple(1 if i % 2 == 0 else 0 for i in range(n))\n",
    "\n",
    "print(alternating_tuple)\n"
   ]
  },
  {
   "cell_type": "markdown",
   "id": "db3a0492",
   "metadata": {},
   "source": [
    "## Set Based Problem"
   ]
  },
  {
   "cell_type": "code",
   "execution_count": 16,
   "id": "b73c8269",
   "metadata": {},
   "outputs": [
    {
     "data": {
      "text/plain": [
       "{1, 2, 3, 4, 5}"
      ]
     },
     "execution_count": 16,
     "metadata": {},
     "output_type": "execute_result"
    }
   ],
   "source": [
    "s = set(range(1,6))\n",
    "s"
   ]
  },
  {
   "cell_type": "code",
   "execution_count": 68,
   "id": "61fb075c",
   "metadata": {},
   "outputs": [
    {
     "data": {
      "text/plain": [
       "{1, 2, 3, 4, 5, 6}"
      ]
     },
     "execution_count": 68,
     "metadata": {},
     "output_type": "execute_result"
    }
   ],
   "source": [
    "s1 = s.add(6)\n",
    "s"
   ]
  },
  {
   "cell_type": "code",
   "execution_count": 69,
   "id": "4c88f673",
   "metadata": {},
   "outputs": [],
   "source": [
    "s.remove(2)"
   ]
  },
  {
   "cell_type": "code",
   "execution_count": 70,
   "id": "9c73e19b",
   "metadata": {},
   "outputs": [
    {
     "data": {
      "text/plain": [
       "{1, 3, 4, 5, 6}"
      ]
     },
     "execution_count": 70,
     "metadata": {},
     "output_type": "execute_result"
    }
   ],
   "source": [
    "s"
   ]
  },
  {
   "cell_type": "code",
   "execution_count": 74,
   "id": "cf53c666",
   "metadata": {},
   "outputs": [
    {
     "name": "stdout",
     "output_type": "stream",
     "text": [
      "element exist\n"
     ]
    }
   ],
   "source": [
    "d = 3\n",
    "if d in s:\n",
    "    print(\"element exist\")\n",
    "else:\n",
    "    print(\"element is not exist\")"
   ]
  },
  {
   "cell_type": "code",
   "execution_count": 81,
   "id": "33684e5a",
   "metadata": {},
   "outputs": [
    {
     "name": "stdout",
     "output_type": "stream",
     "text": [
      "5\n"
     ]
    }
   ],
   "source": [
    "length = 0\n",
    "for _ in s:\n",
    "    length += 1\n",
    "print(length)"
   ]
  },
  {
   "cell_type": "code",
   "execution_count": 79,
   "id": "eb300aca",
   "metadata": {},
   "outputs": [
    {
     "data": {
      "text/plain": [
       "5"
      ]
     },
     "execution_count": 79,
     "metadata": {},
     "output_type": "execute_result"
    }
   ],
   "source": [
    "len(s)"
   ]
  },
  {
   "cell_type": "code",
   "execution_count": 84,
   "id": "0e7529fe",
   "metadata": {},
   "outputs": [
    {
     "data": {
      "text/plain": [
       "{1, 2, 3, 4, 5, 6, 7, 9, 15}"
      ]
     },
     "execution_count": 84,
     "metadata": {},
     "output_type": "execute_result"
    }
   ],
   "source": [
    "s1 = {15,3,4,7,9,2,6,3,5,1}\n",
    "s1"
   ]
  },
  {
   "cell_type": "code",
   "execution_count": 86,
   "id": "949e1050",
   "metadata": {},
   "outputs": [],
   "source": [
    "s1.clear()"
   ]
  },
  {
   "cell_type": "code",
   "execution_count": 87,
   "id": "22dacd06",
   "metadata": {},
   "outputs": [
    {
     "data": {
      "text/plain": [
       "set()"
      ]
     },
     "execution_count": 87,
     "metadata": {},
     "output_type": "execute_result"
    }
   ],
   "source": [
    "s1"
   ]
  },
  {
   "cell_type": "code",
   "execution_count": 88,
   "id": "9e3de623",
   "metadata": {},
   "outputs": [
    {
     "name": "stdout",
     "output_type": "stream",
     "text": [
      "{4, 6}\n"
     ]
    }
   ],
   "source": [
    "s_even = {i for i in s if i%2 == 0}\n",
    "print(s_even)"
   ]
  },
  {
   "cell_type": "code",
   "execution_count": 89,
   "id": "8f991ae9",
   "metadata": {},
   "outputs": [
    {
     "name": "stdout",
     "output_type": "stream",
     "text": [
      "{1, 3, 5}\n"
     ]
    }
   ],
   "source": [
    "s_odd = {i for i in s if i%2 != 0}\n",
    "print(s_odd)"
   ]
  },
  {
   "cell_type": "code",
   "execution_count": 120,
   "id": "4da8b1b4",
   "metadata": {},
   "outputs": [
    {
     "data": {
      "text/plain": [
       "{1, 3, 4, 5, 6}"
      ]
     },
     "execution_count": 120,
     "metadata": {},
     "output_type": "execute_result"
    }
   ],
   "source": [
    "s"
   ]
  },
  {
   "cell_type": "code",
   "execution_count": 99,
   "id": "b1889a27",
   "metadata": {},
   "outputs": [],
   "source": [
    "s2= {11,22,3,55,66,88,47}"
   ]
  },
  {
   "cell_type": "code",
   "execution_count": 100,
   "id": "65676cd7",
   "metadata": {},
   "outputs": [
    {
     "data": {
      "text/plain": [
       "{1, 3, 4, 5, 6, 11, 22, 47, 55, 66, 88}"
      ]
     },
     "execution_count": 100,
     "metadata": {},
     "output_type": "execute_result"
    }
   ],
   "source": [
    "s_u = s.union(s2)\n",
    "s_u"
   ]
  },
  {
   "cell_type": "code",
   "execution_count": 101,
   "id": "f7f6d31a",
   "metadata": {},
   "outputs": [
    {
     "data": {
      "text/plain": [
       "{3}"
      ]
     },
     "execution_count": 101,
     "metadata": {},
     "output_type": "execute_result"
    }
   ],
   "source": [
    "s_i = s.intersection(s2)\n",
    "s_i"
   ]
  },
  {
   "cell_type": "code",
   "execution_count": 19,
   "id": "940cf56f",
   "metadata": {},
   "outputs": [
    {
     "data": {
      "text/plain": [
       "{1, 2, 3}"
      ]
     },
     "execution_count": 19,
     "metadata": {},
     "output_type": "execute_result"
    }
   ],
   "source": [
    "s_d = s.difference(s2)\n",
    "s_d"
   ]
  },
  {
   "cell_type": "code",
   "execution_count": 105,
   "id": "2496a060",
   "metadata": {},
   "outputs": [
    {
     "data": {
      "text/plain": [
       "False"
      ]
     },
     "execution_count": 105,
     "metadata": {},
     "output_type": "execute_result"
    }
   ],
   "source": [
    "s_sub = s.issubset(s2)\n",
    "s_sub"
   ]
  },
  {
   "cell_type": "code",
   "execution_count": 106,
   "id": "ec90dd8a",
   "metadata": {},
   "outputs": [
    {
     "data": {
      "text/plain": [
       "False"
      ]
     },
     "execution_count": 106,
     "metadata": {},
     "output_type": "execute_result"
    }
   ],
   "source": [
    "s_supset = s.issuperset(s2)\n",
    "s_supset"
   ]
  },
  {
   "cell_type": "code",
   "execution_count": 33,
   "id": "28880bb9",
   "metadata": {},
   "outputs": [],
   "source": [
    "l = [1,4,5,26,3,8811,5,63,84,318,45,112]"
   ]
  },
  {
   "cell_type": "code",
   "execution_count": 109,
   "id": "8d4eada7",
   "metadata": {},
   "outputs": [
    {
     "data": {
      "text/plain": [
       "{1, 3, 4, 5, 26, 45, 63, 84, 112, 318, 8811}"
      ]
     },
     "execution_count": 109,
     "metadata": {},
     "output_type": "execute_result"
    }
   ],
   "source": [
    "l_to_s = set(l)\n",
    "l_to_s"
   ]
  },
  {
   "cell_type": "code",
   "execution_count": 110,
   "id": "28589c94",
   "metadata": {},
   "outputs": [
    {
     "data": {
      "text/plain": [
       "set"
      ]
     },
     "execution_count": 110,
     "metadata": {},
     "output_type": "execute_result"
    }
   ],
   "source": [
    "type(l_to_s)"
   ]
  },
  {
   "cell_type": "code",
   "execution_count": 112,
   "id": "88d7c0d0",
   "metadata": {},
   "outputs": [
    {
     "data": {
      "text/plain": [
       "[1, 3, 4, 5, 6]"
      ]
     },
     "execution_count": 112,
     "metadata": {},
     "output_type": "execute_result"
    }
   ],
   "source": [
    "s_to_l = list(s)\n",
    "s_to_l"
   ]
  },
  {
   "cell_type": "code",
   "execution_count": 113,
   "id": "aef7482b",
   "metadata": {},
   "outputs": [
    {
     "data": {
      "text/plain": [
       "list"
      ]
     },
     "execution_count": 113,
     "metadata": {},
     "output_type": "execute_result"
    }
   ],
   "source": [
    "type(s_to_l)"
   ]
  },
  {
   "cell_type": "code",
   "execution_count": 114,
   "id": "b10f2b09",
   "metadata": {},
   "outputs": [],
   "source": [
    "l_to_s.remove(8811)"
   ]
  },
  {
   "cell_type": "code",
   "execution_count": 115,
   "id": "2b3a46ce",
   "metadata": {},
   "outputs": [
    {
     "data": {
      "text/plain": [
       "{1, 3, 4, 5, 26, 45, 63, 84, 112, 318}"
      ]
     },
     "execution_count": 115,
     "metadata": {},
     "output_type": "execute_result"
    }
   ],
   "source": [
    "l_to_s"
   ]
  },
  {
   "cell_type": "code",
   "execution_count": 119,
   "id": "d5569b61",
   "metadata": {},
   "outputs": [
    {
     "data": {
      "text/plain": [
       "1"
      ]
     },
     "execution_count": 119,
     "metadata": {},
     "output_type": "execute_result"
    }
   ],
   "source": [
    "l_to_s.pop()"
   ]
  },
  {
   "cell_type": "code",
   "execution_count": 17,
   "id": "cbbc50f1",
   "metadata": {},
   "outputs": [
    {
     "data": {
      "text/plain": [
       "{1, 2, 3, 4, 5}"
      ]
     },
     "execution_count": 17,
     "metadata": {},
     "output_type": "execute_result"
    }
   ],
   "source": [
    "s"
   ]
  },
  {
   "cell_type": "code",
   "execution_count": 122,
   "id": "f64a4d33",
   "metadata": {},
   "outputs": [
    {
     "data": {
      "text/plain": [
       "{3, 4, 5, 26, 45, 63, 84, 112, 318}"
      ]
     },
     "execution_count": 122,
     "metadata": {},
     "output_type": "execute_result"
    }
   ],
   "source": [
    "l_to_s"
   ]
  },
  {
   "cell_type": "code",
   "execution_count": 127,
   "id": "6800d35b",
   "metadata": {},
   "outputs": [
    {
     "name": "stdout",
     "output_type": "stream",
     "text": [
      "common elements are {3, 4, 5}\n"
     ]
    }
   ],
   "source": [
    "if len(s.intersection(l_to_s)) == 0:\n",
    "    print(\"no common element\")\n",
    "else:\n",
    "    print(\"common elements are\",s.intersection(l_to_s))"
   ]
  },
  {
   "cell_type": "code",
   "execution_count": 128,
   "id": "c686109c",
   "metadata": {},
   "outputs": [
    {
     "data": {
      "text/plain": [
       "{1, 6, 26, 45, 63, 84, 112, 318}"
      ]
     },
     "execution_count": 128,
     "metadata": {},
     "output_type": "execute_result"
    }
   ],
   "source": [
    "s.symmetric_difference(l_to_s)     #x in a or x in b but not in a and b"
   ]
  },
  {
   "cell_type": "code",
   "execution_count": 20,
   "id": "0a6f6aaf",
   "metadata": {},
   "outputs": [
    {
     "data": {
      "text/plain": [
       "{1, 2, 3}"
      ]
     },
     "execution_count": 20,
     "metadata": {},
     "output_type": "execute_result"
    }
   ],
   "source": [
    "s_d"
   ]
  },
  {
   "cell_type": "code",
   "execution_count": 137,
   "id": "1b467a3f",
   "metadata": {},
   "outputs": [
    {
     "data": {
      "text/plain": [
       "{1, 3, 4, 5, 6}"
      ]
     },
     "execution_count": 137,
     "metadata": {},
     "output_type": "execute_result"
    }
   ],
   "source": [
    "s_i"
   ]
  },
  {
   "cell_type": "code",
   "execution_count": 6,
   "id": "d219effc",
   "metadata": {},
   "outputs": [
    {
     "name": "stdout",
     "output_type": "stream",
     "text": [
      "{1, 2, 3, 4, 5, 6}\n"
     ]
    }
   ],
   "source": [
    "s1 = {1,2,3}\n",
    "s2 = {4,5,6}\n",
    "\n",
    "s1.update(s2)\n",
    "print(s1)"
   ]
  },
  {
   "cell_type": "code",
   "execution_count": 7,
   "id": "79b599ea",
   "metadata": {},
   "outputs": [
    {
     "data": {
      "text/plain": [
       "{2, 3, 5, 7, 11}"
      ]
     },
     "execution_count": 7,
     "metadata": {},
     "output_type": "execute_result"
    }
   ],
   "source": [
    "p = 12\n",
    "primes = {n for n in range(2, p) if all(n % i != 0 for i in range(2,int(n**0.5)+1))}\n",
    "primes"
   ]
  },
  {
   "cell_type": "code",
   "execution_count": 11,
   "id": "76155977",
   "metadata": {},
   "outputs": [
    {
     "data": {
      "text/plain": [
       "True"
      ]
     },
     "execution_count": 11,
     "metadata": {},
     "output_type": "execute_result"
    }
   ],
   "source": [
    "are_identical_operator = len(set1) == len(set2)\n",
    "are_identical_operator"
   ]
  },
  {
   "cell_type": "code",
   "execution_count": 13,
   "id": "10f78887",
   "metadata": {},
   "outputs": [
    {
     "data": {
      "text/plain": [
       "frozenset({2, 3, 5, 7, 11})"
      ]
     },
     "execution_count": 13,
     "metadata": {},
     "output_type": "execute_result"
    }
   ],
   "source": [
    "p2 = frozenset(primes)\n",
    "p2"
   ]
  },
  {
   "cell_type": "code",
   "execution_count": 21,
   "id": "98f70952",
   "metadata": {},
   "outputs": [
    {
     "data": {
      "text/plain": [
       "False"
      ]
     },
     "execution_count": 21,
     "metadata": {},
     "output_type": "execute_result"
    }
   ],
   "source": [
    "s.isdisjoint(s_d)"
   ]
  },
  {
   "cell_type": "code",
   "execution_count": 26,
   "id": "89904a23",
   "metadata": {},
   "outputs": [
    {
     "data": {
      "text/plain": [
       "{1, 4, 9, 16, 25}"
      ]
     },
     "execution_count": 26,
     "metadata": {},
     "output_type": "execute_result"
    }
   ],
   "source": [
    "ss = {i**2 for i in range(1,6)}\n",
    "ss"
   ]
  },
  {
   "cell_type": "code",
   "execution_count": 27,
   "id": "5dbb9f1a",
   "metadata": {},
   "outputs": [
    {
     "data": {
      "text/plain": [
       "{2, 4, 6, 8, 66, 122, 12212, 22320}"
      ]
     },
     "execution_count": 27,
     "metadata": {},
     "output_type": "execute_result"
    }
   ],
   "source": [
    "s = {1,2,3,4,5,6,8,22320,9,15,2,66,5,33,5,122,211,51,12212}\n",
    "\n",
    "se = {x for x in s if x%2 == 0}\n",
    "se"
   ]
  },
  {
   "cell_type": "code",
   "execution_count": 29,
   "id": "b9dda566",
   "metadata": {},
   "outputs": [
    {
     "data": {
      "text/plain": [
       "{2, 4, 6, 8, 10, 12, 16, 18, 30, 66, 102, 132, 244, 422, 24424, 44640}"
      ]
     },
     "execution_count": 29,
     "metadata": {},
     "output_type": "execute_result"
    }
   ],
   "source": [
    "s_2x = {x*2 for x in s}\n",
    "s_2x"
   ]
  },
  {
   "cell_type": "code",
   "execution_count": 33,
   "id": "bdf9c849",
   "metadata": {},
   "outputs": [
    {
     "data": {
      "text/plain": [
       "{14, 50, 52, 76, 77}"
      ]
     },
     "execution_count": 33,
     "metadata": {},
     "output_type": "execute_result"
    }
   ],
   "source": [
    "import random\n",
    "r_set = set(random.randint(1,100) for _ in range(5))\n",
    "r_set"
   ]
  },
  {
   "cell_type": "code",
   "execution_count": 34,
   "id": "71de97fd",
   "metadata": {},
   "outputs": [
    {
     "name": "stdout",
     "output_type": "stream",
     "text": [
      "set is not empty\n"
     ]
    }
   ],
   "source": [
    "if len(s_2x) == 0:\n",
    "    print(\"set is empty\")\n",
    "else:\n",
    "    print(\"set is not empty\")"
   ]
  },
  {
   "cell_type": "code",
   "execution_count": 35,
   "id": "44dbab04",
   "metadata": {},
   "outputs": [
    {
     "data": {
      "text/plain": [
       "{frozenset({11}), frozenset({2, 3}), frozenset({5, 7})}"
      ]
     },
     "execution_count": 35,
     "metadata": {},
     "output_type": "execute_result"
    }
   ],
   "source": [
    "nested_set = {frozenset({2,3}), frozenset({5,7}), frozenset({11})}\n",
    "nested_set"
   ]
  },
  {
   "cell_type": "code",
   "execution_count": 4,
   "id": "93fa1e65",
   "metadata": {},
   "outputs": [
    {
     "data": {
      "text/plain": [
       "{22, 33, 44, 55, 66, 77, 88, 99}"
      ]
     },
     "execution_count": 4,
     "metadata": {},
     "output_type": "execute_result"
    }
   ],
   "source": [
    "sd = {11,22,33,44,55,66,77,88,99}\n",
    "sd.discard(11)\n",
    "sd"
   ]
  },
  {
   "cell_type": "code",
   "execution_count": 5,
   "id": "1926e948",
   "metadata": {},
   "outputs": [
    {
     "name": "stdout",
     "output_type": "stream",
     "text": [
      "Are the sets equal? False\n",
      "Is A a subset of B? False\n",
      "Is B a superset of A? False\n",
      "Intersection of A and B: {3, 4, 5}\n",
      "Difference A - B: {1, 2}\n",
      "Difference B - A: {6, 7}\n",
      "Union of A and B: {1, 2, 3, 4, 5, 6, 7}\n"
     ]
    }
   ],
   "source": [
    "set_A = {1, 2, 3, 4, 5}\n",
    "set_B = {3, 4, 5, 6, 7}\n",
    "\n",
    "# Equality\n",
    "print(\"Are the sets equal?\", set_A == set_B)\n",
    "\n",
    "# Subset and Superset\n",
    "print(\"Is A a subset of B?\", set_A.issubset(set_B))\n",
    "print(\"Is B a superset of A?\", set_B.issuperset(set_A))\n",
    "\n",
    "# Intersection\n",
    "intersection = set_A.intersection(set_B)\n",
    "print(\"Intersection of A and B:\", intersection)\n",
    "\n",
    "# Difference\n",
    "difference_A_B = set_A.difference(set_B)\n",
    "difference_B_A = set_B.difference(set_A)\n",
    "print(\"Difference A - B:\", difference_A_B)\n",
    "print(\"Difference B - A:\", difference_B_A)\n",
    "\n",
    "# Union\n",
    "union = set_A.union(set_B)\n",
    "print(\"Union of A and B:\", union)\n"
   ]
  },
  {
   "cell_type": "code",
   "execution_count": 10,
   "id": "99b0de91",
   "metadata": {},
   "outputs": [
    {
     "data": {
      "text/plain": [
       "{' ', 'H', 'd', 'e', 'l', 'o', 'r', 'w'}"
      ]
     },
     "execution_count": 10,
     "metadata": {},
     "output_type": "execute_result"
    }
   ],
   "source": [
    "s =\"Hello world\"\n",
    "\n",
    "s1 = set(s)\n",
    "s1"
   ]
  },
  {
   "cell_type": "code",
   "execution_count": 12,
   "id": "b0ea2f65",
   "metadata": {},
   "outputs": [
    {
     "data": {
      "text/plain": [
       "{5, 11, 12, 22, 31, 33, 41}"
      ]
     },
     "execution_count": 12,
     "metadata": {},
     "output_type": "execute_result"
    }
   ],
   "source": [
    "sr={'11', '22', '33', '5', '41', '12', '31'}\n",
    "s_int = {int(i) for i in sr}\n",
    "s_int"
   ]
  },
  {
   "cell_type": "code",
   "execution_count": 13,
   "id": "0cb6d1a4",
   "metadata": {},
   "outputs": [
    {
     "data": {
      "text/plain": [
       "{'11', '12', '22', '31', '33', '41', '5'}"
      ]
     },
     "execution_count": 13,
     "metadata": {},
     "output_type": "execute_result"
    }
   ],
   "source": [
    "s_str = {str(i) for i in s_int}\n",
    "s_str"
   ]
  },
  {
   "cell_type": "code",
   "execution_count": 16,
   "id": "c67cbe7c",
   "metadata": {},
   "outputs": [
    {
     "data": {
      "text/plain": [
       "{1, 2, 3, 5, 6, 8, 9, 12, 56, 345, 511}"
      ]
     },
     "execution_count": 16,
     "metadata": {},
     "output_type": "execute_result"
    }
   ],
   "source": [
    "t = (12,5,3,9,8,1,6,56,5,1,345,511,2)\n",
    "ts = set(t)\n",
    "ts"
   ]
  },
  {
   "cell_type": "code",
   "execution_count": 17,
   "id": "2754cb89",
   "metadata": {},
   "outputs": [
    {
     "data": {
      "text/plain": [
       "(1, 2, 3, 5, 6, 8, 9, 12, 56, 345, 511)"
      ]
     },
     "execution_count": 17,
     "metadata": {},
     "output_type": "execute_result"
    }
   ],
   "source": [
    "st = tuple(ts)\n",
    "st"
   ]
  },
  {
   "cell_type": "code",
   "execution_count": 21,
   "id": "2b02526c",
   "metadata": {},
   "outputs": [
    {
     "data": {
      "text/plain": [
       "511"
      ]
     },
     "execution_count": 21,
     "metadata": {},
     "output_type": "execute_result"
    }
   ],
   "source": [
    "smax = max(st)\n",
    "smax"
   ]
  },
  {
   "cell_type": "code",
   "execution_count": 22,
   "id": "d1217846",
   "metadata": {},
   "outputs": [
    {
     "data": {
      "text/plain": [
       "1"
      ]
     },
     "execution_count": 22,
     "metadata": {},
     "output_type": "execute_result"
    }
   ],
   "source": [
    "smin = min(st)\n",
    "smin"
   ]
  },
  {
   "cell_type": "code",
   "execution_count": 23,
   "id": "1ecdf429",
   "metadata": {},
   "outputs": [
    {
     "name": "stdout",
     "output_type": "stream",
     "text": [
      "Enter the no .12 14 54 89 100\n"
     ]
    },
    {
     "data": {
      "text/plain": [
       "{12, 14, 54, 89, 100}"
      ]
     },
     "execution_count": 23,
     "metadata": {},
     "output_type": "execute_result"
    }
   ],
   "source": [
    "inp = input(\"Enter the no .\")\n",
    "inp_list = inp.split()\n",
    "inp_set = {int(i) for i in inp_list}\n",
    "inp_set"
   ]
  },
  {
   "cell_type": "code",
   "execution_count": 26,
   "id": "17fdddad",
   "metadata": {},
   "outputs": [
    {
     "name": "stdout",
     "output_type": "stream",
     "text": [
      "Is the intersection empty?: True\n"
     ]
    }
   ],
   "source": [
    "A = {1, 2, 3, 4, 5}\n",
    "B = {6, 7, 8, 9, 10}\n",
    "intersection_result = A.intersection(B)\n",
    "is_empty_comparison = not bool(intersection_result)\n",
    "print(\"Is the intersection empty?:\", is_empty_comparison)"
   ]
  },
  {
   "cell_type": "code",
   "execution_count": 32,
   "id": "a82dde71",
   "metadata": {},
   "outputs": [
    {
     "data": {
      "text/plain": [
       "{0, 1, 2, 3, 5}"
      ]
     },
     "execution_count": 32,
     "metadata": {},
     "output_type": "execute_result"
    }
   ],
   "source": [
    "def fibonacci(n):\n",
    "    fib_list = [0, 1]\n",
    "    while len(fib_list) < n:\n",
    "        fib_list.append(fib_list[-1] + fib_list[-2])\n",
    "    return set(fib_list)\n",
    "fibonacci_tuple = fibonacci(6)\n",
    "fibonacci_tuple"
   ]
  },
  {
   "cell_type": "code",
   "execution_count": 36,
   "id": "457c6f8c",
   "metadata": {},
   "outputs": [],
   "source": [
    "l = [1, 4,3,84,45, 5, 26, 3, 8811, 5, 63, 84, 318, 45, 112]"
   ]
  },
  {
   "cell_type": "code",
   "execution_count": 37,
   "id": "59d593bb",
   "metadata": {},
   "outputs": [
    {
     "data": {
      "text/plain": [
       "[1, 3, 4, 5, 8811, 45, 112, 84, 26, 318, 63]"
      ]
     },
     "execution_count": 37,
     "metadata": {},
     "output_type": "execute_result"
    }
   ],
   "source": [
    "l1 = set(l)\n",
    "l2 = list(l1)\n",
    "l2"
   ]
  },
  {
   "cell_type": "code",
   "execution_count": 38,
   "id": "5ed7e213",
   "metadata": {},
   "outputs": [
    {
     "data": {
      "text/plain": [
       "True"
      ]
     },
     "execution_count": 38,
     "metadata": {},
     "output_type": "execute_result"
    }
   ],
   "source": [
    "set_A = {1, 2, 3, 4, 5}\n",
    "set_B = {5, 4, 3, 2, 1}\n",
    "# Check if the sets have the same elements, regardless of order\n",
    "s_equal = set_A == set_B\n",
    "s_equal"
   ]
  },
  {
   "cell_type": "code",
   "execution_count": 42,
   "id": "b1009eea",
   "metadata": {},
   "outputs": [
    {
     "data": {
      "text/plain": [
       "{1, 2, 4, 8, 16}"
      ]
     },
     "execution_count": 42,
     "metadata": {},
     "output_type": "execute_result"
    }
   ],
   "source": [
    "n = 5\n",
    "n_2 = {2**i for i in range(n)}\n",
    "n_2"
   ]
  },
  {
   "cell_type": "code",
   "execution_count": 46,
   "id": "b8d3813e",
   "metadata": {},
   "outputs": [
    {
     "data": {
      "text/plain": [
       "{5, 10}"
      ]
     },
     "execution_count": 46,
     "metadata": {},
     "output_type": "execute_result"
    }
   ],
   "source": [
    "A = {1, 10, 3, 4, 5}\n",
    "B = {6, 7, 5, 9, 10}\n",
    "common = A.intersection(B)\n",
    "common"
   ]
  },
  {
   "cell_type": "code",
   "execution_count": 47,
   "id": "af366fd8",
   "metadata": {},
   "outputs": [
    {
     "data": {
      "text/plain": [
       "{1, 3, 6, 10, 15, 21, 28, 36, 45, 55}"
      ]
     },
     "execution_count": 47,
     "metadata": {},
     "output_type": "execute_result"
    }
   ],
   "source": [
    "n = 10\n",
    "triangular_set = set((i * (i + 1)) // 2 for i in range(1, n + 1))\n",
    "triangular_set"
   ]
  },
  {
   "cell_type": "code",
   "execution_count": 48,
   "id": "553da183",
   "metadata": {},
   "outputs": [
    {
     "data": {
      "text/plain": [
       "True"
      ]
     },
     "execution_count": 48,
     "metadata": {},
     "output_type": "execute_result"
    }
   ],
   "source": [
    "set_A = {1, 2, 3, 4, 5}\n",
    "set_B = {2, 4}\n",
    "is_subset = set_B.issubset(set_A)\n",
    "is_subset"
   ]
  },
  {
   "cell_type": "code",
   "execution_count": 49,
   "id": "7b93d06c",
   "metadata": {},
   "outputs": [
    {
     "data": {
      "text/plain": [
       "{0, 1}"
      ]
     },
     "execution_count": 49,
     "metadata": {},
     "output_type": "execute_result"
    }
   ],
   "source": [
    "n = 10\n",
    "alter_set = {1 if i%2 == 0 else 0 for i in range(n)}\n",
    "alter_set"
   ]
  },
  {
   "cell_type": "code",
   "execution_count": 52,
   "id": "b6d61dcc",
   "metadata": {},
   "outputs": [
    {
     "data": {
      "text/plain": [
       "{1, 2, 3, 4, 5, 6, 7}"
      ]
     },
     "execution_count": 52,
     "metadata": {},
     "output_type": "execute_result"
    }
   ],
   "source": [
    "s1 = {1, 2, 3}\n",
    "s2 = {3, 4, 5}\n",
    "s3 = {5, 6, 7}\n",
    "merged_set = s1.union(s2, s3)\n",
    "merged_set"
   ]
  }
 ],
 "metadata": {
  "kernelspec": {
   "display_name": "Python 3 (ipykernel)",
   "language": "python",
   "name": "python3"
  },
  "language_info": {
   "codemirror_mode": {
    "name": "ipython",
    "version": 3
   },
   "file_extension": ".py",
   "mimetype": "text/x-python",
   "name": "python",
   "nbconvert_exporter": "python",
   "pygments_lexer": "ipython3",
   "version": "3.11.3"
  }
 },
 "nbformat": 4,
 "nbformat_minor": 5
}
